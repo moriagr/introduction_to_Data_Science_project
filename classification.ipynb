{
 "cells": [
  {
   "cell_type": "markdown",
   "metadata": {},
   "source": [
    "* The data that I choose as my main project is of the classification type."
   ]
  },
  {
   "cell_type": "code",
   "execution_count": 419,
   "metadata": {},
   "outputs": [],
   "source": [
    "import pandas as pd\n",
    "import numpy as np\n",
    "import plotly.express as px\n",
    "import matplotlib\n",
    "import matplotlib.pyplot as plt\n",
    "import seaborn as sns\n",
    "from sklearn.linear_model import LinearRegression\n",
    "from sklearn.linear_model import SGDRegressor\n",
    "from sklearn.model_selection import train_test_split\n",
    "from sklearn import metrics\n",
    "from sklearn.neighbors import KNeighborsClassifier\n",
    "from sklearn import utils\n",
    "from sklearn import preprocessing\n",
    "from sklearn.linear_model import LogisticRegression\n",
    "from sklearn.naive_bayes import GaussianNB\n",
    "from sklearn.tree import DecisionTreeClassifier\n",
    "from sklearn.ensemble import RandomForestClassifier\n",
    "from sklearn.svm import SVC\n",
    "from sklearn.discriminant_analysis import LinearDiscriminantAnalysis\n",
    "from sklearn.dummy import DummyClassifier\n",
    "\n",
    "%matplotlib inline"
   ]
  },
  {
   "cell_type": "markdown",
   "metadata": {},
   "source": [
    "Reading from file and allowing the data to be also hebrew"
   ]
  },
  {
   "cell_type": "code",
   "execution_count": 271,
   "metadata": {},
   "outputs": [
    {
     "data": {
      "text/html": [
       "<div>\n",
       "<style scoped>\n",
       "    .dataframe tbody tr th:only-of-type {\n",
       "        vertical-align: middle;\n",
       "    }\n",
       "\n",
       "    .dataframe tbody tr th {\n",
       "        vertical-align: top;\n",
       "    }\n",
       "\n",
       "    .dataframe thead th {\n",
       "        text-align: right;\n",
       "    }\n",
       "</style>\n",
       "<table border=\"1\" class=\"dataframe\">\n",
       "  <thead>\n",
       "    <tr style=\"text-align: right;\">\n",
       "      <th></th>\n",
       "      <th>מספר רשיון</th>\n",
       "      <th>סוג תכשיר</th>\n",
       "      <th>שם תכשיר</th>\n",
       "      <th>שם תכשיר אנגלי</th>\n",
       "      <th>סוג פעילות</th>\n",
       "      <th>סוג פעילות אנגלי</th>\n",
       "      <th>מספר או'ם</th>\n",
       "      <th>חומר פעיל</th>\n",
       "      <th>CAS.NO</th>\n",
       "      <th>קבוצת עמידות</th>\n",
       "      <th>...</th>\n",
       "      <th>נפח ליישום</th>\n",
       "      <th>כניסה מחדש</th>\n",
       "      <th>תקופת המתנה</th>\n",
       "      <th>שלב גידול</th>\n",
       "      <th>גיל גידול</th>\n",
       "      <th>שלב עשב</th>\n",
       "      <th>גיל עשב</th>\n",
       "      <th>אופי הפעלה</th>\n",
       "      <th>הערה גידול</th>\n",
       "      <th>סוג קרקע</th>\n",
       "    </tr>\n",
       "  </thead>\n",
       "  <tbody>\n",
       "    <tr>\n",
       "      <th>0</th>\n",
       "      <td>9037</td>\n",
       "      <td>אינם קוטלי עשבים</td>\n",
       "      <td>אתרל אגרודיל</td>\n",
       "      <td>ETHREL</td>\n",
       "      <td>תכשירים בעלי היתר ליבוא מקביל</td>\n",
       "      <td>PARALLEL PERMIT IMPORT</td>\n",
       "      <td>NaN</td>\n",
       "      <td>ETHEPHON</td>\n",
       "      <td>16672-87-0</td>\n",
       "      <td>NaN</td>\n",
       "      <td>...</td>\n",
       "      <td>200 - 150 ליטר/דונם</td>\n",
       "      <td>לאחר התייבשות</td>\n",
       "      <td>0</td>\n",
       "      <td>NaN</td>\n",
       "      <td>NaN</td>\n",
       "      <td>NaN</td>\n",
       "      <td>NaN</td>\n",
       "      <td>NaN</td>\n",
       "      <td>הטיפול בהתחלת שינוי גוון,בזני מטלי,רד רוזה וסנ...</td>\n",
       "      <td>NaN</td>\n",
       "    </tr>\n",
       "    <tr>\n",
       "      <th>1</th>\n",
       "      <td>9037</td>\n",
       "      <td>אינם קוטלי עשבים</td>\n",
       "      <td>אתרל אגרודיל</td>\n",
       "      <td>ETHREL</td>\n",
       "      <td>תכשירים בעלי היתר ליבוא מקביל</td>\n",
       "      <td>PARALLEL PERMIT IMPORT</td>\n",
       "      <td>NaN</td>\n",
       "      <td>ETHEPHON</td>\n",
       "      <td>16672-87-0</td>\n",
       "      <td>NaN</td>\n",
       "      <td>...</td>\n",
       "      <td>200 - 150 ליטר/דונם</td>\n",
       "      <td>לאחר התייבשות</td>\n",
       "      <td>10</td>\n",
       "      <td>NaN</td>\n",
       "      <td>NaN</td>\n",
       "      <td>NaN</td>\n",
       "      <td>NaN</td>\n",
       "      <td>NaN</td>\n",
       "      <td>הטיפול בזן אורליאנס, יונתן ומיני דלישס.</td>\n",
       "      <td>NaN</td>\n",
       "    </tr>\n",
       "    <tr>\n",
       "      <th>2</th>\n",
       "      <td>9078</td>\n",
       "      <td>אינם קוטלי עשבים</td>\n",
       "      <td>דיקרזול אגרודיל</td>\n",
       "      <td>DICARZOL</td>\n",
       "      <td>תכשירים בעלי היתר ליבוא מקביל</td>\n",
       "      <td>PARALLEL PERMIT IMPORT</td>\n",
       "      <td>2757.0</td>\n",
       "      <td>FORMETANATE HYDROCHLORIDE</td>\n",
       "      <td>23422-53-9</td>\n",
       "      <td>NaN</td>\n",
       "      <td>...</td>\n",
       "      <td>75 - 30 ליטר/דונם</td>\n",
       "      <td>3 ימים מהריסוס</td>\n",
       "      <td>NaN</td>\n",
       "      <td>NaN</td>\n",
       "      <td>NaN</td>\n",
       "      <td>NaN</td>\n",
       "      <td>NaN</td>\n",
       "      <td>NaN</td>\n",
       "      <td>אין לטפל עם רמת הנגיעות עולה על 3 תריפסים לפרח</td>\n",
       "      <td>NaN</td>\n",
       "    </tr>\n",
       "    <tr>\n",
       "      <th>3</th>\n",
       "      <td>9078</td>\n",
       "      <td>אינם קוטלי עשבים</td>\n",
       "      <td>דיקרזול אגרודיל</td>\n",
       "      <td>DICARZOL</td>\n",
       "      <td>תכשירים בעלי היתר ליבוא מקביל</td>\n",
       "      <td>PARALLEL PERMIT IMPORT</td>\n",
       "      <td>2757.0</td>\n",
       "      <td>FORMETANATE HYDROCHLORIDE</td>\n",
       "      <td>23422-53-9</td>\n",
       "      <td>NaN</td>\n",
       "      <td>...</td>\n",
       "      <td>50 - 30 ליטר/דונם</td>\n",
       "      <td>3 ימים מהריסוס</td>\n",
       "      <td>NaN</td>\n",
       "      <td>NaN</td>\n",
       "      <td>NaN</td>\n",
       "      <td>NaN</td>\n",
       "      <td>NaN</td>\n",
       "      <td>NaN</td>\n",
       "      <td>הריסוס בשלב הפריחה</td>\n",
       "      <td>NaN</td>\n",
       "    </tr>\n",
       "    <tr>\n",
       "      <th>4</th>\n",
       "      <td>9078</td>\n",
       "      <td>אינם קוטלי עשבים</td>\n",
       "      <td>דיקרזול אגרודיל</td>\n",
       "      <td>DICARZOL</td>\n",
       "      <td>תכשירים בעלי היתר ליבוא מקביל</td>\n",
       "      <td>PARALLEL PERMIT IMPORT</td>\n",
       "      <td>2757.0</td>\n",
       "      <td>FORMETANATE HYDROCHLORIDE</td>\n",
       "      <td>23422-53-9</td>\n",
       "      <td>NaN</td>\n",
       "      <td>...</td>\n",
       "      <td>50 - 30 ליטר/דונם</td>\n",
       "      <td>3 ימים מהריסוס</td>\n",
       "      <td>4</td>\n",
       "      <td>NaN</td>\n",
       "      <td>NaN</td>\n",
       "      <td>NaN</td>\n",
       "      <td>NaN</td>\n",
       "      <td>NaN</td>\n",
       "      <td>הוספת סוכר 1.5 ק\"ג/ד עשויה לשפר את הקטילה</td>\n",
       "      <td>NaN</td>\n",
       "    </tr>\n",
       "    <tr>\n",
       "      <th>...</th>\n",
       "      <td>...</td>\n",
       "      <td>...</td>\n",
       "      <td>...</td>\n",
       "      <td>...</td>\n",
       "      <td>...</td>\n",
       "      <td>...</td>\n",
       "      <td>...</td>\n",
       "      <td>...</td>\n",
       "      <td>...</td>\n",
       "      <td>...</td>\n",
       "      <td>...</td>\n",
       "      <td>...</td>\n",
       "      <td>...</td>\n",
       "      <td>...</td>\n",
       "      <td>...</td>\n",
       "      <td>...</td>\n",
       "      <td>...</td>\n",
       "      <td>...</td>\n",
       "      <td>...</td>\n",
       "      <td>...</td>\n",
       "      <td>...</td>\n",
       "    </tr>\n",
       "    <tr>\n",
       "      <th>44103</th>\n",
       "      <td>7278</td>\n",
       "      <td>אורגני</td>\n",
       "      <td>גניקן</td>\n",
       "      <td>GANIKAN</td>\n",
       "      <td>קוטלי פטריות וחיידקים</td>\n",
       "      <td>FUNGICIDES &amp; BACTERICIDES</td>\n",
       "      <td>NaN</td>\n",
       "      <td>CANOLA OIL</td>\n",
       "      <td>120962-03-0</td>\n",
       "      <td>NaN</td>\n",
       "      <td>...</td>\n",
       "      <td>60 - 40 ליטר/דונם</td>\n",
       "      <td>.תכשיר לחקלאות אורגנית לאחר התייבשות התרסיס</td>\n",
       "      <td>3</td>\n",
       "      <td>NaN</td>\n",
       "      <td>NaN</td>\n",
       "      <td>NaN</td>\n",
       "      <td>NaN</td>\n",
       "      <td>NaN</td>\n",
       "      <td>בתוספת משטח אגוז 0.1%</td>\n",
       "      <td>NaN</td>\n",
       "    </tr>\n",
       "    <tr>\n",
       "      <th>44104</th>\n",
       "      <td>7326</td>\n",
       "      <td>אורגני</td>\n",
       "      <td>אי.או.אס</td>\n",
       "      <td>EOS</td>\n",
       "      <td>קוטלי חרקים ואקריות</td>\n",
       "      <td>INSECTICIDES &amp;   ACARICIDES</td>\n",
       "      <td>NaN</td>\n",
       "      <td>DISTILLATES (PETROLEUM), HYDROTREATED LIGHT PA...</td>\n",
       "      <td>64742-55-8</td>\n",
       "      <td>ללא</td>\n",
       "      <td>...</td>\n",
       "      <td>עד נגירה</td>\n",
       "      <td>.תכשיר לחקלאות אורגנית לאחר היתייבשות</td>\n",
       "      <td>3</td>\n",
       "      <td>NaN</td>\n",
       "      <td>NaN</td>\n",
       "      <td>NaN</td>\n",
       "      <td>NaN</td>\n",
       "      <td>NaN</td>\n",
       "      <td>NaN</td>\n",
       "      <td>NaN</td>\n",
       "    </tr>\n",
       "    <tr>\n",
       "      <th>44105</th>\n",
       "      <td>7059</td>\n",
       "      <td>אורגני</td>\n",
       "      <td>בלו שילד</td>\n",
       "      <td>BLUE SHIELD</td>\n",
       "      <td>קוטלי פטריות וחיידקים</td>\n",
       "      <td>FUNGICIDES &amp; BACTERICIDES</td>\n",
       "      <td>3077.0</td>\n",
       "      <td>COPPER HYDROXIDE</td>\n",
       "      <td>20427-59-2</td>\n",
       "      <td>NaN</td>\n",
       "      <td>...</td>\n",
       "      <td>50 - 30 ליטר/דונם</td>\n",
       "      <td>.תכשיר לחקלאות אורגנית 48שעות</td>\n",
       "      <td>7</td>\n",
       "      <td>NaN</td>\n",
       "      <td>NaN</td>\n",
       "      <td>NaN</td>\n",
       "      <td>NaN</td>\n",
       "      <td>NaN</td>\n",
       "      <td>המינון הנמוך בטיפול מניעה, יש להגדיל את הריכוז...</td>\n",
       "      <td>NaN</td>\n",
       "    </tr>\n",
       "    <tr>\n",
       "      <th>44106</th>\n",
       "      <td>7278</td>\n",
       "      <td>אורגני</td>\n",
       "      <td>גניקן</td>\n",
       "      <td>GANIKAN</td>\n",
       "      <td>קוטלי חרקים ואקריות</td>\n",
       "      <td>INSECTICIDES &amp;   ACARICIDES</td>\n",
       "      <td>NaN</td>\n",
       "      <td>CANOLA OIL</td>\n",
       "      <td>120962-03-0</td>\n",
       "      <td>NaN</td>\n",
       "      <td>...</td>\n",
       "      <td>60 - 40 ליטר/דונם</td>\n",
       "      <td>.תכשיר לחקלאות אורגנית לאחר התייבשות התרסיס</td>\n",
       "      <td>3</td>\n",
       "      <td>NaN</td>\n",
       "      <td>NaN</td>\n",
       "      <td>NaN</td>\n",
       "      <td>NaN</td>\n",
       "      <td>NaN</td>\n",
       "      <td>מנטה ספרדית. בתוספת משטח אגוז 0.1%</td>\n",
       "      <td>NaN</td>\n",
       "    </tr>\n",
       "    <tr>\n",
       "      <th>44107</th>\n",
       "      <td>7278</td>\n",
       "      <td>אורגני</td>\n",
       "      <td>גניקן</td>\n",
       "      <td>GANIKAN</td>\n",
       "      <td>קוטלי פטריות וחיידקים</td>\n",
       "      <td>FUNGICIDES &amp; BACTERICIDES</td>\n",
       "      <td>NaN</td>\n",
       "      <td>NEEM OIL</td>\n",
       "      <td>8002-65-1</td>\n",
       "      <td>UNE* Botanical essence including synthetic, e...</td>\n",
       "      <td>...</td>\n",
       "      <td>30 ליטר/דונם</td>\n",
       "      <td>.תכשיר לחקלאות אורגנית לאחר התייבשות התרסיס</td>\n",
       "      <td>3</td>\n",
       "      <td>NaN</td>\n",
       "      <td>NaN</td>\n",
       "      <td>NaN</td>\n",
       "      <td>NaN</td>\n",
       "      <td>NaN</td>\n",
       "      <td>NaN</td>\n",
       "      <td>NaN</td>\n",
       "    </tr>\n",
       "  </tbody>\n",
       "</table>\n",
       "<p>44108 rows × 46 columns</p>\n",
       "</div>"
      ],
      "text/plain": [
       "       מספר רשיון         סוג תכשיר         שם תכשיר שם תכשיר אנגלי  \\\n",
       "0            9037  אינם קוטלי עשבים     אתרל אגרודיל         ETHREL   \n",
       "1            9037  אינם קוטלי עשבים     אתרל אגרודיל         ETHREL   \n",
       "2            9078  אינם קוטלי עשבים  דיקרזול אגרודיל       DICARZOL   \n",
       "3            9078  אינם קוטלי עשבים  דיקרזול אגרודיל       DICARZOL   \n",
       "4            9078  אינם קוטלי עשבים  דיקרזול אגרודיל       DICARZOL   \n",
       "...           ...               ...              ...            ...   \n",
       "44103        7278            אורגני            גניקן        GANIKAN   \n",
       "44104        7326            אורגני         אי.או.אס            EOS   \n",
       "44105        7059            אורגני         בלו שילד    BLUE SHIELD   \n",
       "44106        7278            אורגני            גניקן        GANIKAN   \n",
       "44107        7278            אורגני            גניקן        GANIKAN   \n",
       "\n",
       "                          סוג פעילות             סוג פעילות אנגלי  מספר או'ם  \\\n",
       "0      תכשירים בעלי היתר ליבוא מקביל       PARALLEL PERMIT IMPORT        NaN   \n",
       "1      תכשירים בעלי היתר ליבוא מקביל       PARALLEL PERMIT IMPORT        NaN   \n",
       "2      תכשירים בעלי היתר ליבוא מקביל       PARALLEL PERMIT IMPORT     2757.0   \n",
       "3      תכשירים בעלי היתר ליבוא מקביל       PARALLEL PERMIT IMPORT     2757.0   \n",
       "4      תכשירים בעלי היתר ליבוא מקביל       PARALLEL PERMIT IMPORT     2757.0   \n",
       "...                              ...                          ...        ...   \n",
       "44103          קוטלי פטריות וחיידקים    FUNGICIDES & BACTERICIDES        NaN   \n",
       "44104            קוטלי חרקים ואקריות  INSECTICIDES &   ACARICIDES        NaN   \n",
       "44105          קוטלי פטריות וחיידקים    FUNGICIDES & BACTERICIDES     3077.0   \n",
       "44106            קוטלי חרקים ואקריות  INSECTICIDES &   ACARICIDES        NaN   \n",
       "44107          קוטלי פטריות וחיידקים    FUNGICIDES & BACTERICIDES        NaN   \n",
       "\n",
       "                                               חומר פעיל       CAS.NO  \\\n",
       "0                                               ETHEPHON   16672-87-0   \n",
       "1                                               ETHEPHON   16672-87-0   \n",
       "2                              FORMETANATE HYDROCHLORIDE   23422-53-9   \n",
       "3                              FORMETANATE HYDROCHLORIDE   23422-53-9   \n",
       "4                              FORMETANATE HYDROCHLORIDE   23422-53-9   \n",
       "...                                                  ...          ...   \n",
       "44103                                         CANOLA OIL  120962-03-0   \n",
       "44104  DISTILLATES (PETROLEUM), HYDROTREATED LIGHT PA...   64742-55-8   \n",
       "44105                                   COPPER HYDROXIDE   20427-59-2   \n",
       "44106                                         CANOLA OIL  120962-03-0   \n",
       "44107                                           NEEM OIL    8002-65-1   \n",
       "\n",
       "                                            קבוצת עמידות  ...  \\\n",
       "0                                                    NaN  ...   \n",
       "1                                                    NaN  ...   \n",
       "2                                                    NaN  ...   \n",
       "3                                                    NaN  ...   \n",
       "4                                                    NaN  ...   \n",
       "...                                                  ...  ...   \n",
       "44103                                                NaN  ...   \n",
       "44104                                                ללא  ...   \n",
       "44105                                                NaN  ...   \n",
       "44106                                                NaN  ...   \n",
       "44107   UNE* Botanical essence including synthetic, e...  ...   \n",
       "\n",
       "                נפח ליישום                                   כניסה מחדש  \\\n",
       "0      200 - 150 ליטר/דונם                                לאחר התייבשות   \n",
       "1      200 - 150 ליטר/דונם                                לאחר התייבשות   \n",
       "2        75 - 30 ליטר/דונם                               3 ימים מהריסוס   \n",
       "3        50 - 30 ליטר/דונם                               3 ימים מהריסוס   \n",
       "4        50 - 30 ליטר/דונם                               3 ימים מהריסוס   \n",
       "...                    ...                                          ...   \n",
       "44103    60 - 40 ליטר/דונם  .תכשיר לחקלאות אורגנית לאחר התייבשות התרסיס   \n",
       "44104             עד נגירה        .תכשיר לחקלאות אורגנית לאחר היתייבשות   \n",
       "44105    50 - 30 ליטר/דונם                .תכשיר לחקלאות אורגנית 48שעות   \n",
       "44106    60 - 40 ליטר/דונם  .תכשיר לחקלאות אורגנית לאחר התייבשות התרסיס   \n",
       "44107         30 ליטר/דונם  .תכשיר לחקלאות אורגנית לאחר התייבשות התרסיס   \n",
       "\n",
       "      תקופת המתנה שלב גידול גיל גידול שלב עשב גיל עשב אופי הפעלה  \\\n",
       "0               0       NaN       NaN     NaN     NaN        NaN   \n",
       "1              10       NaN       NaN     NaN     NaN        NaN   \n",
       "2             NaN       NaN       NaN     NaN     NaN        NaN   \n",
       "3             NaN       NaN       NaN     NaN     NaN        NaN   \n",
       "4               4       NaN       NaN     NaN     NaN        NaN   \n",
       "...           ...       ...       ...     ...     ...        ...   \n",
       "44103           3       NaN       NaN     NaN     NaN        NaN   \n",
       "44104           3       NaN       NaN     NaN     NaN        NaN   \n",
       "44105           7       NaN       NaN     NaN     NaN        NaN   \n",
       "44106           3       NaN       NaN     NaN     NaN        NaN   \n",
       "44107           3       NaN       NaN     NaN     NaN        NaN   \n",
       "\n",
       "                                              הערה גידול סוג קרקע  \n",
       "0      הטיפול בהתחלת שינוי גוון,בזני מטלי,רד רוזה וסנ...      NaN  \n",
       "1                הטיפול בזן אורליאנס, יונתן ומיני דלישס.      NaN  \n",
       "2         אין לטפל עם רמת הנגיעות עולה על 3 תריפסים לפרח      NaN  \n",
       "3                                     הריסוס בשלב הפריחה      NaN  \n",
       "4              הוספת סוכר 1.5 ק\"ג/ד עשויה לשפר את הקטילה      NaN  \n",
       "...                                                  ...      ...  \n",
       "44103                              בתוספת משטח אגוז 0.1%      NaN  \n",
       "44104                                                NaN      NaN  \n",
       "44105  המינון הנמוך בטיפול מניעה, יש להגדיל את הריכוז...      NaN  \n",
       "44106                 מנטה ספרדית. בתוספת משטח אגוז 0.1%      NaN  \n",
       "44107                                                NaN      NaN  \n",
       "\n",
       "[44108 rows x 46 columns]"
      ]
     },
     "execution_count": 271,
     "metadata": {},
     "output_type": "execute_result"
    }
   ],
   "source": [
    "df = pd.read_csv('Pesticide Repository.csv',sep=',', encoding = \"ISO-8859-8\")\n",
    "df"
   ]
  },
  {
   "cell_type": "markdown",
   "metadata": {},
   "source": [
    "* I try to predict the \"סוג תכשיר\" column, or in english the \"preparation type num\" column. I will try to get all the other data that in the table and find out which \"סוג תכשיר\" he is: 'אינם קוטלי עשבים' ,'קוטלי עשבים'  or 'אורגני'"
   ]
  },
  {
   "cell_type": "markdown",
   "metadata": {},
   "source": [
    "First I will clean the database so it will be only with numbers and without words using dictionris"
   ]
  },
  {
   "cell_type": "code",
   "execution_count": 272,
   "metadata": {},
   "outputs": [],
   "source": [
    "def str_array_to_dictionry(my_list):\n",
    "    my_dict = dict() \n",
    "    for index,value in enumerate(my_list):\n",
    "        my_dict[value] = index\n",
    "    return my_dict"
   ]
  },
  {
   "cell_type": "code",
   "execution_count": 273,
   "metadata": {},
   "outputs": [],
   "source": [
    "def add_new_column(old_name, new_name):\n",
    "    value = str_array_to_dictionry(pd.unique(df[old_name]))\n",
    "    print(value)\n",
    "    new_column = []\n",
    "    for val in df[old_name]:\n",
    "        new_column.append(value[val])\n",
    "    df[new_name] = new_column"
   ]
  },
  {
   "cell_type": "markdown",
   "metadata": {},
   "source": [
    "# Transform The Columns to numeric"
   ]
  },
  {
   "cell_type": "code",
   "execution_count": 308,
   "metadata": {},
   "outputs": [
    {
     "name": "stdout",
     "output_type": "stream",
     "text": [
      "{'אינם קוטלי עשבים': 0, 'קוטלי עשבים': 1, 'אורגני': 2}\n"
     ]
    }
   ],
   "source": [
    "add_new_column(\"סוג תכשיר\", 'preparation type num')"
   ]
  },
  {
   "cell_type": "code",
   "execution_count": 309,
   "metadata": {},
   "outputs": [
    {
     "name": "stdout",
     "output_type": "stream",
     "text": [
      "{'PARALLEL PERMIT IMPORT': 0, 'HERBICIDES & DEFOLIANTS': 1, 'MICRONUTRIENTS': 2, 'NEMATICIDES': 3, 'PLANT GROWTH REGULATORS': 4, 'SOIL DISINFECTANT': 5, 'FUNGICIDES & BACTERICIDES': 6, 'INSECTICIDES &   ACARICIDES': 7, 'REPELLENTS FOR BIRDS & MAMMALS': 8, 'ADJUVANTS': 9, 'INSECT ATTRACTANTS': 10, 'PLANT PROTECTION PRODUCTS FOR HOME GARDENS': 11, 'NATIONAL ORGANIC PROGRAM (NOP)': 12, 'WOUND SEALING MATERIALS': 13, 'POSTHARVEST TREATMENTS': 14, 'SEED TREATMENT': 15, 'MOLLUSCICIDES': 16, 'FUMIGANTS': 17, 'RODENTICIDES': 18, 'READY TO USE': 19, 'FERTILIZERS&SOIL CONDITIONNERS': 20}\n"
     ]
    }
   ],
   "source": [
    "add_new_column(\"סוג פעילות אנגלי\", 'activity type num')"
   ]
  },
  {
   "cell_type": "code",
   "execution_count": 310,
   "metadata": {},
   "outputs": [
    {
     "name": "stdout",
     "output_type": "stream",
     "text": [
      "{nan: 0, 'קלה': 1, 'כבדה': 2, 'בכל הקרקעות': 3, 'בינונית כבדה': 4, 'קלה בינונית כבדה': 5, 'בינונית': 6, 'קלה לס': 7, 'לס': 8, 'קלה בינונית': 9, 'חול לס': 10, 'לס חול לס': 11, 'בינונית לס': 12, 'בינונית לס חול לס': 13, 'בינונית כבדה לס': 14, 'בינונית חול לס': 15, 'כבדה לס': 16, 'קלה בינונית כבדה בכל הקרקעות': 17, 'בינונית כבדה חול לס': 18}\n"
     ]
    }
   ],
   "source": [
    "add_new_column(\"סוג קרקע\", 'field type num')"
   ]
  },
  {
   "cell_type": "code",
   "execution_count": 311,
   "metadata": {},
   "outputs": [
    {
     "name": "stdout",
     "output_type": "stream",
     "text": [
      "{'ETHEPHON': 0, 'FORMETANATE HYDROCHLORIDE': 1, 'FENAZAQUIN': 2, 'SPIROTETRAMAT': 3, 'FLUDIOXONIL': 4, 'CYPRODINIL': 5, 'KRESOXIM METHYL': 6, 'BOSCALID': 7, 'PYRACLOSTROBIN': 8, 'CHLORANTRANILIPROLE': 9, 'MANCOZEB': 10, 'MEFENOXAM (ראה METALAXYL M)': 11, 'OXYFLUORFEN': 12, 'PROPAQUIZAFOP': 13, 'CARFENTRAZONE ETHYL': 14, 'DIURON': 15, 'BROMACIL': 16, 'GLYPHOSATE': 17, 'MECOPROP-P': 18, 'CLOQUINTOCET MEXYL': 19, 'INDAZIFLAM': 20, 'TRIBENURON METHYL': 21, 'GLUFOSINATE AMMONIUM': 22, 'TRIFLOXYSULFURON': 23, '2,4-D AMINE SALT': 24, 'CYPROSULFAMIDE': 25, 'SULFENTRAZONE': 26, 'METRIBUZIN': 27, 'BENTAZONE': 28, '2,4-D': 29, 'PROPYZAMIDE': 30, 'PYRAFLUFEN-ETHYL': 31, 'BROMOXYNIL': 32, 'GLYPHOSATE ISOPROPYL AMINE SALT': 33, 'METAMITRON': 34, 'CHLORSULFURON': 35, 'TRICLOPYR BUTOTYL': 36, 'HALOXYFOP R METHYL': 37, 'CHLORTHAL DIMETHYL': 38, 'FLUAZIFOP-P-BUTYL': 39, 'FOMESAFEN': 40, 'FLORASULAM': 41, 'FLUMETSULAM': 42, 'CLETHODIM': 43, 'DIFLUFENICAN': 44, 'FLUROCHLORIDONE': 45, 'SULFOMETURON METHYL': 46, 'FLUROXYPYR': 47, 'RIMSULFURON': 48, 'TERBUTRYNE': 49, '2,4-D ETHYL HEXYL ESTER': 50, 'LINURON': 51, 'MAGNESIUM CHLORATE': 52, 'METAZACHLOR': 53, 'CLOPYRALID': 54, 'QUIZALOFOP-P-ETHYL': 55, 'ETHALFLURALIN': 56, 'FLUOMETURON': 57, 'OXADIAZON': 58, 'TEMBOTRIONE': 59, 'FLUMIOXAZIN': 60, 'PENDIMETHALIN': 61, 'PYRITHIOBAC SODIUM': 62, 'IMAZAMOX': 63, 'CYCLOXYDIM': 64, 'CLOQUINTOCET': 65, 'QUIZALOFOP-P-TEFURYL': 66, 'CHLORIDAZON': 67, 'CLOMAZONE': 68, 'DIMETHENAMID-P': 69, 'ATRAZINE': 70, 'DIQUAT': 71, 'ZINC NITRATE': 72, '1,3 DICHLOROPROPENE': 73, 'GIBBERELLIC ACID': 74, 'METAM SODIUM': 75, 'CALCIUM POLYSULPHIDE': 76, 'ABAMECTIN': 77, 'OLEORESIN CAPSICUM': 78, 'SPIROMESIFEN': 79, 'THIOCYCLAM HYDROGEN OXALATE': 80, 'EMAMECTIN BENZOATE': 81, 'INDOXACARB': 82, 'CHLOROTHALONIL': 83, 'PARAFFINIC OIL': 84, 'D-LIMONENE': 85, 'FLUAZINAM': 86, 'AMMONIUM BICARBONATE': 87, 'TOLFENPYRAD': 88, 'PENCONAZOLE': 89, 'BIFENTHRIN': 90, 'DIFENOCONAZOLE': 91, 'AZOXYSTROBIN': 92, 'TEBUCONAZOLE': 93, 'TRIFLOXYSTROBIN': 94, 'NMT': 95, 'CYPROCONAZOLE': 96, 'CHLORFLUAZURON': 97, 'PROCHLORAZ MANGANESE': 98, 'DISTILLATES (PETROLEUM), HYDROTREATED LIGHT PARAFFINIC': 99, 'IMIDACLOPRID': 100, 'FENBUCONAZOLE': 101, 'PHOSMET': 102, 'SPIRODICLOFEN': 103, 'FLUOPICOLIDE': 104, 'TRIFLUMURON': 105, 'NAA': 106, 'DINOTEFURAN': 107, 'LAMBDA CYHALOTHRIN': 108, 'NAPHTHALENE ACETIC ACID (NAA)': 109, 'FLUTRIAFOL': 110, 'POTASSIUM   SALT OF FATTY ACIDS': 111, 'NAPHTHALENE  ACETAMIDE': 112, 'PENFLUFEN': 113, 'METAFLUMIZONE': 114, 'FOSETYL AL': 115, 'BUPROFEZIN': 116, 'PROPINEB-DITHIOCARBAMATE': 117, 'CLOFENTEZINE': 118, 'POLYALKYLENEOXIDE MODIFIED HEPTAMETHYLTRISILOXAN': 119, 'THIAMETHOXAM': 120, 'ACETAMIPRID': 121, 'TEFLUBENZURON': 122, 'CYANTRANILIPROLE': 123, 'ACEQUINOCYL': 124, 'CYFLUTHRIN': 125, 'DIMETHOMORPH': 126, 'PICOXYSTROBIN': 127, 'SPINETORAM': 128, 'TRIADIMENOL': 129, 'METHOXYFENOZIDE': 130, 'ALKOXYLATED FATTY ALKYLAMINE POLYMER': 131, 'PYRIMETHANIL': 132, 'COPPER SULPHATE': 133, 'GARLIC EXTRACT': 134, 'PYRIDALYL': 135, 'BEAUVERIA BASSIANA': 136, 'FENBUTATIN OXIDE': 137, 'BACILLUS FIRMUS': 138, 'FE (AS FE-HBED)': 139, 'PROTEIN HYDROLYSATE': 140, 'BENZYLADENINE': 141, 'DIAFENTHIURON': 142, 'SPINOSAD': 143, 'SORBITAN MONOOLEATE ETHOXYLATED': 144, 'THIACLOPRID': 145, 'COPPER HYDROXIDE': 146, 'STYRENE ACRYLATE': 147, 'IMAZALIL': 148, 'SULFUR': 149, 'FORCHLORFENURON': 150, 'FERROUS SULPHATE': 151, 'NOVALURON': 152, 'UNICONAZOLE': 153, 'POLYVINYL POLYMER': 154, 'BENALAXYL': 155, 'CHLORPYRIFOS': 156, 'HYDROGEN CYANAMIDE': 157, 'BIFENAZATE': 158, 'TETRACONAZOLE': 159, 'LUFENURON': 160, 'OXIDIZED POLYETHYLENE': 161, 'NATURAL RESINS': 162, 'POLYETHYLENE': 163, 'MODIFIED POLYALKYLENEOXIDE HEPTAMETHYLTRISILOXANE': 164, 'BACILLUS THURINGIENSIS KURSTAKI': 165, 'PROPAMOCARB HCL': 166, 'DIFLUBENZURON': 167, 'DITHIANON': 168, 'DIMETHOATE': 169, 'BACILLUS THURINGIENSIS': 170, 'DELTAMETHRIN': 171, 'SODIUM DICHLOROISOCYANURATE, DIHYDRATE': 172, 'MYCLOBUTANIL': 173, 'CYMOXANIL': 174, 'METRAFENONE': 175, 'CARBOXIN': 176, 'INDOL BUTYRIC ACID': 177, 'THIRAM': 178, 'BUPIRIMATE': 179, 'POTASSIUM PHOSPHITE': 180, 'COPPER OXYCHLORIDE': 181, 'THIABENDAZOLE': 182, 'SUMMER OIL': 183, 'FLUOPYRAM': 184, 'OXAMYL': 185, 'FATTY ACID POTASSIUM SALT': 186, 'AFIDOPYROPEN': 187, 'POTASSIUM FATTY ACID': 188, 'FAMOXADONE': 189, 'POLYDIMETHYLSILOXANE': 190, 'E,Z,Z-3,8,11-TETRADECATRIENYL ACETATE': 191, 'CYPERMETHRIN': 192, 'AMMONIUM ACETATE': 193, 'HYMEXAZOL': 194, 'FLUBENDIAMIDE': 195, 'GAMMA-CYHALOTHRIN (ראה LAMBDA CYHALOTHRIN)': 196, 'CADAVERINE': 197, 'FE-EDDHA': 198, 'TRIMETHYLAMINE HYDROCHLORIDE': 199, 'FE (AS FE EDTA)': 200, 'ETOXAZOLE': 201, 'METALDEHYDE': 202, 'CYROMAZINE': 203, 'THIOPHANATE METHYL': 204, 'TEA TREE OIL': 205, 'FLONICAMID': 206, 'THIDIAZURON': 207, 'FENHEXAMID': 208, 'HYDROXYQUINOLINE': 209, 'PROQUINAZID': 210, 'TRIBASIC COPPER SULFATE': 211, 'OCTYL PHENYL POLYETHER ALCOHOL': 212, 'PYRIPROXYFEN': 213, 'METHOMYL': 214, 'PCNB (QUINTOZENE)': 215, 'PUTRESCINE': 216, 'TAU-FLUVALINATE': 217, 'COPPER SULFATE PENTAHYDRATE': 218, 'MAGNESIUM PHOSPHIDE': 219, 'ESFENVALERATE': 220, 'SYNTHETIC TERPENES EXTRACT OF  CHENOPODIUM': 221, 'BROMADIOLONE': 222, 'ETHOXYLATED POLYDIMETHYLSILOXANE SURFACTANT': 223, 'FENPYROXIMATE': 224, 'PYRIMIDIFEN': 225, 'METALAXYL': 226, '(MANGANESE (AS EDTA': 227, 'FOLPET': 228, 'MALATHION': 229, 'METHIOCARB': 230, 'CAPTAN': 231, 'TRICLOPYR (3,5,6-TPA)': 232, 'CHLOROPICRIN': 233, 'METHYL BROMIDE': 234, 'ALKYL PHENOXY POLYETHYLENE ETHANOL': 235, 'ALKYLARYL POLYETHER ALCOHOLS': 236, 'NEEM OIL': 237, 'FENAMIPHOS': 238, 'MICROORGANISMS': 239, 'OREGANO OIL': 240, 'CYFLUFENAMID': 241, 'AZADIRACHTIN': 242, 'METSCHNIKOWIA FRUCTICOLA': 243, 'PYRIDABEN': 244, 'BROMOPROPYLATE': 245, 'FENAMIDONE': 246, 'MCP': 247, 'SODIUM FLUOSILICATE': 248, 'FENPROPATHRIN': 249, 'E-8 DODECENYL ACETATE': 250, 'PROCHLORAZ': 251, 'ETOFENPROX': 252, 'PIPERONYL BUTOXIDE': 253, 'BACILLUS SUBTILIS': 254, 'PHOSPHONIC ACID': 255, 'METIRAM (ראה DITHIOCARBAMATES)': 256, 'ALUMINIUM PHOSPHIDE': 257, 'POLYOXINS': 258, 'EDDHAS-FE': 259, 'CHLORFENAPYR': 260, 'FORMALDEHYDE': 261, 'MINERALS': 262, 'SULFOXAFLOR': 263, 'SODIUM LAUREL SULFATE': 264, 'DIMETHYL DISULFIDE': 265, 'VEGETABLE OIL': 266, 'PIRIMICARB': 267, 'CYHEXATIN': 268, 'PROTHIOCONAZOLE': 269, 'SILVER NITRATE': 270, 'DICHLORPROP-P': 271, 'PYMETROZINE': 272, 'POLYOXIN B': 273, 'PYRIOFENONE': 274, 'PACLOBUTRAZOLE': 275, 'CHLORMEQUAT CHLORIDE': 276, 'PEAT MIX': 277, 'CODLEMON': 278, 'PYRETHRINS (PYRETHRUM)': 279, 'POTASSIUM OXIDE': 280, 'SOPHORA SP': 281, 'FISH SOLUTION': 282, 'VEGETAL OIL': 283, 'POTASSIUM HYDROGEN CARBONATE': 284, 'SODIUM BORAX': 285, 'INACTIVATED YEAST': 286, 'CARNALLITE': 287, 'RHODOPSEUDOMONAS PALUSTRIS': 288, 'CITRIC ACID MONOHYDRATE': 289, 'LACTOBACILLUS CASEI': 290, 'POTASSIUM VINASSE POWDER': 291, 'CONDENSED CANE MOLASSES': 292, 'KAOLIN': 293, 'CARVACROL': 294, 'DTPA-FE': 295, 'E-8-DODECENYL ACETATE': 296, 'PLANT OIL': 297, 'LAVANDULYL SENECIOATE': 298, 'CRYPTOPHLEBIA LEUCOTRETA GRANULOVIRUS': 299, ' (E)-5-DECENYL ACETATE': 300, '(E)-5-DECENOL': 301, 'KARANJA CAKE': 302, 'NEEM CAKE': 303, 'TRIMEDLURE': 304, 'CLOTHIANIDIN': 305, 'MEPTYLDINOCAP': 306, 'ACRINATHRIN': 307, 'METALAXYL-M (MEFENOXAM)': 308, 'SODIUM FLUOROACETATE': 309, 'TOLCLOFOS METHYL': 310, 'MALEIC HYDRAZIDE': 311, 'MANDIPROPAMID': 312, 'E,Z-7,9 DODECADIENYL ACETATE': 313, 'POLYISOBUTANE': 314, 'CANOLA OIL': 315, 'FERMENTED MIXTURE OF VEG. MATTER': 316, 'LACTOBACILLUS PLANTARUM': 317, 'SACCHAROMYCCES CEREVIAIAE': 318, 'IRON SULPHATE HEPTAHYDRATE': 319, 'SAPONINS FROM PLANTS': 320, 'SPIROKETAL': 321, 'S-ABSCISIC ACID': 322, 'PROPOXYCARBAZONE-SODIUM': 323, 'CLODINAFOP PROPARGYL': 324, 'ISOXADIFEN ETHYL': 325, 'FORAMSULFURON': 326, 'METOLACHLOR-S': 327, 'SAFLUFENACIL': 328, 'PICLORAM': 329, 'AMINOPYRALIDE (AMINOPYRALID TRIISOPROPANOLAMMONIUM)': 330, 'MSMA': 331, 'SULFOSULFURON': 332, 'TERBACIL': 333, 'HALAUXIFEN METHYL': 334, 'ACLONIFEN': 335, 'PROMETRYNE': 336, 'IMAZAPYR': 337, 'DAMINOZIDE': 338, 'FATTY ACIDS GLYCOL ESTERS': 339, 'TCMTB': 340, 'BASIC COPPER CARBONATE': 341, 'CARNAUBA WAX': 342, 'BETA-CYFLUTHRIN': 343, 'CYFLUMETOFEN': 344, 'BENTHIAVALICARB- ISOPROPYL': 345, 'E,Z-2-13-OCTADECADIENYL ACETATE': 346, 'ZN EDTA CHELATES': 347, 'ALKYL POLYETHOXY ETHANOL FATTY ACIDS ISOPROPANOL': 348, 'PHTHALIC GLYCEROLE ALKYD RESINS': 349, 'ETRIDIAZOLE': 350, 'ZINC': 351, 'HYDROGEN PEROXIDE': 352, 'POLYVINYL ALCOHOL': 353, '1,4 DIAMINOBUTANE': 354, 'MILBEMECTIN': 355, 'IRON': 356, 'COPPER SALT': 357, 'DIMETHYL POLYSILOXANES': 358, 'CORN GLUTEN MEAL (HYDROLYZED)': 359, 'FLUENSULFONE': 360, 'SOY LECITHIN': 361, 'MEPIQUAT CHLORIDE': 362, 'PENCYCURON': 363, 'OCTYL ISOTHIAZOLIN': 364, 'FENPYRAZAMINE': 365, 'SHELLAC': 366, 'VERMICULITE': 367, 'E,Z-3,13-OCTADECADIENYL ACETATE': 368, 'POTASSIUM CHLORIDE': 369, 'CHIKEN MANURE': 370, 'COCONUTS': 371, 'BRODIFACOUM': 372, 'ZOXAMIDE': 373, 'TRICHODERMA HARZIANUM': 374, 'PROHEXADIONE CALCIUM': 375, 'COUMATETRALYL': 376, '(E,Z)-2,13-OCTADECADIENYL ACETATE': 377, 'PENTHIOPYRAD': 378, 'FLUTOLANIL': 379, 'SUCROGLYCERIDES': 380, 'MESOSULFURON-METHYL': 381, 'MCPA': 382, 'ISOXAFLUTOLE': 383, 'PINOXADEN': 384, 'ORYZALIN': 385, 'IMAZAPIC': 386, 'QUINOXYFEN': 387, 'S.O.P.P.': 388, 'TERPENIC POLYMER': 389, 'MONO AND DIPOTASSUIM SALTS OF PHOSPHOROUS': 390, 'FLUOXASTROBIN': 391, 'TEBUFENPYRAD': 392, 'PROPIONIC ACID': 393, 'OXOLINIC ACID': 394, 'FLUPYRADIFURONE': 395, 'MEPANIPYRIM': 396, '5-DECEN-1-YL ACETATE': 397, 'AMADS': 398, 'MACRO ELEMENTS': 399, 'MICRONISED ROCK PHOSPHATE': 400, 'LUCERNE/ALFALFA MEAL': 401, 'EDTA-MN': 402, 'CYDIA POMONELLA GRANULOVIRUS': 403, 'POTASSIUM SALT OF PHOSPHOROUS ACID': 404, 'POTASSIUM BICARBONATE': 405, 'ALKYL PHENOL ETHYLENE OXIDE CONDENSATE': 406, 'ASCOPHYLLUM NODOSUM': 407, 'IMAZETHAPYR': 408, 'OXADIARGYL': 409, 'SILICONE': 410, 'ORTHO PHENYLPHENOL': 411, 'MANGANESE SULPHATE': 412, 'DIPHENYLAMINE': 413, 'TROCLOSENE SODIUM': 414, 'ZNO': 415, '3-DECEN-2-ONE': 416, 'Z,E-7,11-HEXADECADIENYL ACETATE': 417, 'Z,E-7,9,11-DODECATRIENYL FORMATE': 418, 'PLANT EXTRACT': 419, 'POLYHALITE': 420, 'E,E-8,10-DODECADIEN-1-OL': 421, 'DIATOMACEOUS EARTH': 422, 'SEAWEED EXTRACT': 423, 'VINASSE OF BEET': 424, 'VINASSE OF CEREALS': 425, 'L-CARVONE': 426, 'MEFENPYR DIETHYL': 427, 'CITRIC ACID': 428, '6-BENZYLADENINE': 429, 'SODIUM BICARBONATE': 430, 'E-Z-7,9-DODECADIENYL ACETATE': 431, 'E,Z-3,8-TETRADECADIENYL ACETATE': 432, 'MANGANESE EDTA CHELATE': 433, 'MOLYBDENUM': 434, 'PROCHLORAZ ZINCI': 435, 'GIBBERELLINS A4': 436, 'POLYETHER MODIFIED TRISILOXANE': 437, 'AMINO ACID': 438, 'CUPROUS OXIDE': 439, 'E-5-DECEN-1-OL': 440, 'PYROXASULFONE': 441, 'NAD  2- (1-NAPHTYL) ACETAMIDE': 442, 'MONOPOTASSIUM SALT OF PHOSPHOROUS ACID': 443, 'PIRIMIPHOS-METHYL': 444, 'OXATHIAPIPROLIN': 445, 'CU (AS CU EDTA)': 446, 'Z-8-DODECENYL ACETATE': 447, 'FENOXYCARB': 448, 'TRIASULFURON': 449, '2,4-DB': 450, 'IODOSULFURON METHYL SODIUM': 451, 'DODINE': 452, 'TRYPTOPHAN': 453, 'STEINERMEMA FELTIAE': 454, 'POLYETHYLENEOXIDE-POLYPROPYLENEOXIDE MONOALLYL ETHER': 455, 'ORGANIC MATTER': 456, 'CALCIUM CARBONATE': 457, 'AMETOCTRADIN': 458, 'AUREOBASIDIUM PULLULANS': 459, 'E/Z-8 DODECENOL ACETATE': 460, 'FLUSULFAMIDE': 461, 'PERLITE': 462, 'CHLORPROPHAM': 463, 'SOYBEAN OIL ETHOXYLATED': 464, '(E,Z)-7,9-DODECADIENYL ACETATE': 465, 'E-8-DODECEN-1-YL ACETATE': 466, 'MICROELEMENTS': 467, 'STEINERNEMA CARPOCAPSAE': 468, 'GUANO': 469, 'METHYL SILICON': 470, 'ZINC SULPHATE': 471, 'BETA NAPHTOXY ACETIC ACID': 472, 'ETHANOLAMINE': 473, 'NITROGEN': 474, 'COMPOSTED MIXTURE OF VEG. MATTER': 475, 'PHOSPHATE ROCK': 476, '(E)-7-DODECENYL ACETATE': 477, 'AMMONIUM PHOSPHITE SALT': 478, 'ASPHALT': 479, 'Z-8-DODECEN-1-YL ACETATE': 480, 'ZINC OXIDE': 481, 'TUFF': 482, 'ETHOXYQUIN': 483, 'PROHYDROJASMON': 484, 'ZN (AS ZN EDTA)': 485}\n"
     ]
    }
   ],
   "source": [
    "add_new_column(\"חומר פעיל\", 'active ingredient num')"
   ]
  },
  {
   "cell_type": "code",
   "execution_count": 312,
   "metadata": {},
   "outputs": [
    {
     "name": "stdout",
     "output_type": "stream",
     "text": [
      "{'SL': 0, 'SP': 1, 'SC': 2, 'WG': 3, 'EC': 4, 'SG': 5, 'PX': 6, 'EW': 7, 'WP': 8, 'L': 9, 'OD': 10, 'CS': 11, 'DC': 12, 'OL': 13, 'R': 14, 'ZC': 15, 'FS': 16, 'SE': 17, 'RB': 18, 'DP': 19, 'GR': 20, 'E': 21, 'GB': 22, 'TB': 23, 'WS': 24, 'GA': 25, 'GE': 26, 'CB': 27, 'AE': 28, 'UL': 29, 'PA': 30, 'CR': 31, 'PE': 32, 'SS': 33, 'HN': 34}\n"
     ]
    }
   ],
   "source": [
    "add_new_column('פורמולציה אנגלי', 'formulation num')"
   ]
  },
  {
   "cell_type": "code",
   "execution_count": 313,
   "metadata": {},
   "outputs": [
    {
     "name": "stdout",
     "output_type": "stream",
     "text": [
      "{'CREATURES OF THE SEA': 0, 'HIGHLY TOXIC TO BEES': 1, 'FISH,BEES & SEA CREATURES': 2, 'FISH & SEA CREATURES': 3, nan: 4, 'VIRTUALLY NON TOXIC': 5, 'FISH': 6, 'SLIGHTLY TOXIC TO BEES': 7, 'MODERATELY TOXIC TO BEES': 8, 'BIRDS': 9, 'FISH & BIRDS': 10, 'FISH & BEES': 11, 'SEAWEED': 12, 'BEES & SEA CREATURES': 13, 'BEES': 14, 'FISH, BEES & BIRDS': 15, 'BIRDS & BEES': 16}\n"
     ]
    }
   ],
   "source": [
    "add_new_column('רעילות אנגלי', 'toxicity num')"
   ]
  },
  {
   "cell_type": "code",
   "execution_count": 314,
   "metadata": {},
   "outputs": [
    {
     "name": "stdout",
     "output_type": "stream",
     "text": [
      "{'Dangerous': 0, 'Toxic': 1, 'Dangerous for health': 2, 'Generators of toxic gases': 3, nan: 4, 'Very toxic': 5}\n"
     ]
    }
   ],
   "source": [
    "add_new_column('דרגת רעילות אנגלי','degree of toxicity num')"
   ]
  },
  {
   "cell_type": "code",
   "execution_count": 315,
   "metadata": {},
   "outputs": [
    {
     "name": "stdout",
     "output_type": "stream",
     "text": [
      "{'DECIDUOUS': 0, 'FLOWERS': 1, 'VEGETABLES': 2, 'CITRUS FRUIT': 3, 'HERBS': 4, 'FIELD CROPS': 5, 'FODDER & FORAGE': 6, 'SUBTROPICAL TREES': 7, 'Different uses': 8, 'INDUSTRIAL CROPS': 9, 'SEEDS\\\\GRAINS': 10, 'FOREST TREES': 11, 'FRUITS (for residue)': 12, 'medicinal plants': 13}\n"
     ]
    }
   ],
   "source": [
    "add_new_column('קבוצת גידולים אנגלי', 'crop group num')"
   ]
  },
  {
   "cell_type": "code",
   "execution_count": 316,
   "metadata": {},
   "outputs": [
    {
     "name": "stdout",
     "output_type": "stream",
     "text": [
      "{'OTHER TREATMENT': 0, 'INSECTICIDES': 1, 'FUNGICIDES': 2, nan: 3, 'NEMATODOS': 4, 'WEEDS': 5}\n"
     ]
    }
   ],
   "source": [
    "add_new_column('קבוצת נגעים אנגלי', 'lesion group num')"
   ]
  },
  {
   "cell_type": "code",
   "execution_count": 317,
   "metadata": {},
   "outputs": [],
   "source": [
    "new_column = []\n",
    "for index,value in enumerate(df['ריכוש חומר פעיל אנגלי']):\n",
    "    try:\n",
    "        if value.split(\" \")[1] == \"%\":\n",
    "            if value.split(\" \")[0]:\n",
    "                value = float(value.split(\" \")[0]) * 10\n",
    "            else:\n",
    "                value = 1\n",
    "        else:\n",
    "            value = value.split(\" \")[0]\n",
    "    except:\n",
    "        value=0\n",
    "    new_column.append(value)\n",
    "df['active substance concentration num'] = new_column"
   ]
  },
  {
   "cell_type": "markdown",
   "metadata": {},
   "source": [
    "Changing column name to english"
   ]
  },
  {
   "cell_type": "code",
   "execution_count": 318,
   "metadata": {},
   "outputs": [],
   "source": [
    "df['license number'] = df['מספר רשיון']\n",
    "df['Preparation name'] = df['שם תכשיר אנגלי']"
   ]
  },
  {
   "cell_type": "code",
   "execution_count": 321,
   "metadata": {},
   "outputs": [],
   "source": [
    "clean_data = df[['license number', 'Preparation name', 'preparation type num', 'activity type num', 'field type num', 'active ingredient num', 'formulation num', 'toxicity num', 'degree of toxicity num', 'crop group num', 'lesion group num', 'active substance concentration num']]"
   ]
  },
  {
   "cell_type": "code",
   "execution_count": 322,
   "metadata": {},
   "outputs": [],
   "source": [
    "clean_data = clean_data.drop(clean_data[(clean_data['active substance concentration num']==0 )| (clean_data['active substance concentration num']=='')].index)"
   ]
  },
  {
   "cell_type": "code",
   "execution_count": 323,
   "metadata": {},
   "outputs": [
    {
     "data": {
      "text/html": [
       "<div>\n",
       "<style scoped>\n",
       "    .dataframe tbody tr th:only-of-type {\n",
       "        vertical-align: middle;\n",
       "    }\n",
       "\n",
       "    .dataframe tbody tr th {\n",
       "        vertical-align: top;\n",
       "    }\n",
       "\n",
       "    .dataframe thead th {\n",
       "        text-align: right;\n",
       "    }\n",
       "</style>\n",
       "<table border=\"1\" class=\"dataframe\">\n",
       "  <thead>\n",
       "    <tr style=\"text-align: right;\">\n",
       "      <th></th>\n",
       "      <th>license number</th>\n",
       "      <th>Preparation name</th>\n",
       "      <th>preparation type num</th>\n",
       "      <th>activity type num</th>\n",
       "      <th>field type num</th>\n",
       "      <th>active ingredient num</th>\n",
       "      <th>formulation num</th>\n",
       "      <th>toxicity num</th>\n",
       "      <th>degree of toxicity num</th>\n",
       "      <th>crop group num</th>\n",
       "      <th>lesion group num</th>\n",
       "      <th>active substance concentration num</th>\n",
       "    </tr>\n",
       "  </thead>\n",
       "  <tbody>\n",
       "    <tr>\n",
       "      <th>0</th>\n",
       "      <td>9037</td>\n",
       "      <td>ETHREL</td>\n",
       "      <td>0</td>\n",
       "      <td>0</td>\n",
       "      <td>0</td>\n",
       "      <td>0</td>\n",
       "      <td>0</td>\n",
       "      <td>0</td>\n",
       "      <td>0</td>\n",
       "      <td>0</td>\n",
       "      <td>0</td>\n",
       "      <td>480</td>\n",
       "    </tr>\n",
       "    <tr>\n",
       "      <th>2</th>\n",
       "      <td>9078</td>\n",
       "      <td>DICARZOL</td>\n",
       "      <td>0</td>\n",
       "      <td>0</td>\n",
       "      <td>0</td>\n",
       "      <td>1</td>\n",
       "      <td>1</td>\n",
       "      <td>1</td>\n",
       "      <td>1</td>\n",
       "      <td>1</td>\n",
       "      <td>1</td>\n",
       "      <td>500.0</td>\n",
       "    </tr>\n",
       "    <tr>\n",
       "      <th>8</th>\n",
       "      <td>9016</td>\n",
       "      <td>MAGISTER AGRODIL</td>\n",
       "      <td>0</td>\n",
       "      <td>0</td>\n",
       "      <td>0</td>\n",
       "      <td>2</td>\n",
       "      <td>2</td>\n",
       "      <td>0</td>\n",
       "      <td>1</td>\n",
       "      <td>2</td>\n",
       "      <td>1</td>\n",
       "      <td>200</td>\n",
       "    </tr>\n",
       "    <tr>\n",
       "      <th>9</th>\n",
       "      <td>9094</td>\n",
       "      <td>MOVENTO 100 - INTAGRO</td>\n",
       "      <td>0</td>\n",
       "      <td>0</td>\n",
       "      <td>0</td>\n",
       "      <td>3</td>\n",
       "      <td>2</td>\n",
       "      <td>0</td>\n",
       "      <td>0</td>\n",
       "      <td>3</td>\n",
       "      <td>1</td>\n",
       "      <td>100</td>\n",
       "    </tr>\n",
       "    <tr>\n",
       "      <th>11</th>\n",
       "      <td>9098</td>\n",
       "      <td>DICARZOL-Intagro</td>\n",
       "      <td>0</td>\n",
       "      <td>0</td>\n",
       "      <td>0</td>\n",
       "      <td>1</td>\n",
       "      <td>1</td>\n",
       "      <td>3</td>\n",
       "      <td>1</td>\n",
       "      <td>1</td>\n",
       "      <td>1</td>\n",
       "      <td>500.0</td>\n",
       "    </tr>\n",
       "    <tr>\n",
       "      <th>...</th>\n",
       "      <td>...</td>\n",
       "      <td>...</td>\n",
       "      <td>...</td>\n",
       "      <td>...</td>\n",
       "      <td>...</td>\n",
       "      <td>...</td>\n",
       "      <td>...</td>\n",
       "      <td>...</td>\n",
       "      <td>...</td>\n",
       "      <td>...</td>\n",
       "      <td>...</td>\n",
       "      <td>...</td>\n",
       "    </tr>\n",
       "    <tr>\n",
       "      <th>43124</th>\n",
       "      <td>1879</td>\n",
       "      <td>T.O.G PASTE</td>\n",
       "      <td>0</td>\n",
       "      <td>4</td>\n",
       "      <td>0</td>\n",
       "      <td>74</td>\n",
       "      <td>30</td>\n",
       "      <td>5</td>\n",
       "      <td>0</td>\n",
       "      <td>1</td>\n",
       "      <td>0</td>\n",
       "      <td>27.0</td>\n",
       "    </tr>\n",
       "    <tr>\n",
       "      <th>43321</th>\n",
       "      <td>4470</td>\n",
       "      <td>SPLAT CYDIA</td>\n",
       "      <td>0</td>\n",
       "      <td>10</td>\n",
       "      <td>0</td>\n",
       "      <td>421</td>\n",
       "      <td>30</td>\n",
       "      <td>5</td>\n",
       "      <td>0</td>\n",
       "      <td>0</td>\n",
       "      <td>1</td>\n",
       "      <td>100.0</td>\n",
       "    </tr>\n",
       "    <tr>\n",
       "      <th>43808</th>\n",
       "      <td>7486</td>\n",
       "      <td>POLYSULPHATE GRANULAR</td>\n",
       "      <td>2</td>\n",
       "      <td>20</td>\n",
       "      <td>0</td>\n",
       "      <td>420</td>\n",
       "      <td>20</td>\n",
       "      <td>4</td>\n",
       "      <td>0</td>\n",
       "      <td>2</td>\n",
       "      <td>0</td>\n",
       "      <td>890.0</td>\n",
       "    </tr>\n",
       "    <tr>\n",
       "      <th>44032</th>\n",
       "      <td>4214</td>\n",
       "      <td>CHELAL Zn</td>\n",
       "      <td>0</td>\n",
       "      <td>2</td>\n",
       "      <td>0</td>\n",
       "      <td>485</td>\n",
       "      <td>0</td>\n",
       "      <td>4</td>\n",
       "      <td>0</td>\n",
       "      <td>7</td>\n",
       "      <td>0</td>\n",
       "      <td>70.0</td>\n",
       "    </tr>\n",
       "    <tr>\n",
       "      <th>44073</th>\n",
       "      <td>7293</td>\n",
       "      <td>SULPHUR</td>\n",
       "      <td>2</td>\n",
       "      <td>6</td>\n",
       "      <td>0</td>\n",
       "      <td>149</td>\n",
       "      <td>19</td>\n",
       "      <td>5</td>\n",
       "      <td>0</td>\n",
       "      <td>2</td>\n",
       "      <td>2</td>\n",
       "      <td>990.0</td>\n",
       "    </tr>\n",
       "  </tbody>\n",
       "</table>\n",
       "<p>1204 rows × 12 columns</p>\n",
       "</div>"
      ],
      "text/plain": [
       "       license number       Preparation name  preparation type num  \\\n",
       "0                9037                 ETHREL                     0   \n",
       "2                9078               DICARZOL                     0   \n",
       "8                9016       MAGISTER AGRODIL                     0   \n",
       "9                9094  MOVENTO 100 - INTAGRO                     0   \n",
       "11               9098       DICARZOL-Intagro                     0   \n",
       "...               ...                    ...                   ...   \n",
       "43124            1879            T.O.G PASTE                     0   \n",
       "43321            4470            SPLAT CYDIA                     0   \n",
       "43808            7486  POLYSULPHATE GRANULAR                     2   \n",
       "44032            4214              CHELAL Zn                     0   \n",
       "44073            7293                SULPHUR                     2   \n",
       "\n",
       "       activity type num  field type num  active ingredient num  \\\n",
       "0                      0               0                      0   \n",
       "2                      0               0                      1   \n",
       "8                      0               0                      2   \n",
       "9                      0               0                      3   \n",
       "11                     0               0                      1   \n",
       "...                  ...             ...                    ...   \n",
       "43124                  4               0                     74   \n",
       "43321                 10               0                    421   \n",
       "43808                 20               0                    420   \n",
       "44032                  2               0                    485   \n",
       "44073                  6               0                    149   \n",
       "\n",
       "       formulation num  toxicity num  degree of toxicity num  crop group num  \\\n",
       "0                    0             0                       0               0   \n",
       "2                    1             1                       1               1   \n",
       "8                    2             0                       1               2   \n",
       "9                    2             0                       0               3   \n",
       "11                   1             3                       1               1   \n",
       "...                ...           ...                     ...             ...   \n",
       "43124               30             5                       0               1   \n",
       "43321               30             5                       0               0   \n",
       "43808               20             4                       0               2   \n",
       "44032                0             4                       0               7   \n",
       "44073               19             5                       0               2   \n",
       "\n",
       "       lesion group num active substance concentration num  \n",
       "0                     0                                480  \n",
       "2                     1                              500.0  \n",
       "8                     1                                200  \n",
       "9                     1                                100  \n",
       "11                    1                              500.0  \n",
       "...                 ...                                ...  \n",
       "43124                 0                               27.0  \n",
       "43321                 1                              100.0  \n",
       "43808                 0                              890.0  \n",
       "44032                 0                               70.0  \n",
       "44073                 2                              990.0  \n",
       "\n",
       "[1204 rows x 12 columns]"
      ]
     },
     "execution_count": 323,
     "metadata": {},
     "output_type": "execute_result"
    }
   ],
   "source": [
    "clean_data = clean_data.drop_duplicates(subset='license number')\n",
    "clean_data"
   ]
  },
  {
   "cell_type": "code",
   "execution_count": 324,
   "metadata": {},
   "outputs": [
    {
     "name": "stdout",
     "output_type": "stream",
     "text": [
      "       license number  preparation type num  activity type num  \\\n",
      "count     1204.000000           1204.000000        1204.000000   \n",
      "mean      3315.029070              0.431063           6.719269   \n",
      "std       2310.881576              0.717480           4.548721   \n",
      "min          2.000000              0.000000           0.000000   \n",
      "25%       1527.000000              0.000000           4.000000   \n",
      "50%       1990.500000              0.000000           6.000000   \n",
      "75%       4399.500000              1.000000           7.000000   \n",
      "max      11028.000000              2.000000          20.000000   \n",
      "\n",
      "       field type num  active ingredient num  formulation num  toxicity num  \\\n",
      "count     1204.000000            1204.000000      1204.000000   1204.000000   \n",
      "mean         0.087209             177.866279         6.779900      3.542359   \n",
      "std          0.661143             122.488554         7.597341      2.994431   \n",
      "min          0.000000               0.000000         0.000000      0.000000   \n",
      "25%          0.000000              84.000000         2.000000      0.000000   \n",
      "50%          0.000000             155.000000         4.000000      4.000000   \n",
      "75%          0.000000             250.000000         9.000000      5.000000   \n",
      "max          9.000000             485.000000        34.000000     16.000000   \n",
      "\n",
      "       degree of toxicity num  crop group num  lesion group num  \n",
      "count             1204.000000     1204.000000       1204.000000  \n",
      "mean                 0.631229        2.784884          1.523256  \n",
      "std                  0.979535        2.705446          1.038874  \n",
      "min                  0.000000        0.000000          0.000000  \n",
      "25%                  0.000000        1.000000          1.000000  \n",
      "50%                  0.000000        2.000000          1.000000  \n",
      "75%                  2.000000        4.000000          2.000000  \n",
      "max                  5.000000       12.000000          5.000000  \n"
     ]
    }
   ],
   "source": [
    "# Description\n",
    "print(clean_data.describe())\n"
   ]
  },
  {
   "cell_type": "markdown",
   "metadata": {},
   "source": [
    "preparation_num distribution\n"
   ]
  },
  {
   "cell_type": "code",
   "execution_count": 327,
   "metadata": {},
   "outputs": [
    {
     "name": "stdout",
     "output_type": "stream",
     "text": [
      "preparation type num\n",
      "0    847\n",
      "1    195\n",
      "2    162\n",
      "dtype: int64\n"
     ]
    }
   ],
   "source": [
    "print(clean_data.groupby('preparation type num').size())\n"
   ]
  },
  {
   "cell_type": "code",
   "execution_count": 328,
   "metadata": {},
   "outputs": [
    {
     "data": {
      "text/plain": [
       "<bound method DataFrame.info of        license number       Preparation name  preparation type num  \\\n",
       "0                9037                 ETHREL                     0   \n",
       "2                9078               DICARZOL                     0   \n",
       "8                9016       MAGISTER AGRODIL                     0   \n",
       "9                9094  MOVENTO 100 - INTAGRO                     0   \n",
       "11               9098       DICARZOL-Intagro                     0   \n",
       "...               ...                    ...                   ...   \n",
       "43124            1879            T.O.G PASTE                     0   \n",
       "43321            4470            SPLAT CYDIA                     0   \n",
       "43808            7486  POLYSULPHATE GRANULAR                     2   \n",
       "44032            4214              CHELAL Zn                     0   \n",
       "44073            7293                SULPHUR                     2   \n",
       "\n",
       "       activity type num  field type num  active ingredient num  \\\n",
       "0                      0               0                      0   \n",
       "2                      0               0                      1   \n",
       "8                      0               0                      2   \n",
       "9                      0               0                      3   \n",
       "11                     0               0                      1   \n",
       "...                  ...             ...                    ...   \n",
       "43124                  4               0                     74   \n",
       "43321                 10               0                    421   \n",
       "43808                 20               0                    420   \n",
       "44032                  2               0                    485   \n",
       "44073                  6               0                    149   \n",
       "\n",
       "       formulation num  toxicity num  degree of toxicity num  crop group num  \\\n",
       "0                    0             0                       0               0   \n",
       "2                    1             1                       1               1   \n",
       "8                    2             0                       1               2   \n",
       "9                    2             0                       0               3   \n",
       "11                   1             3                       1               1   \n",
       "...                ...           ...                     ...             ...   \n",
       "43124               30             5                       0               1   \n",
       "43321               30             5                       0               0   \n",
       "43808               20             4                       0               2   \n",
       "44032                0             4                       0               7   \n",
       "44073               19             5                       0               2   \n",
       "\n",
       "       lesion group num active substance concentration num  \n",
       "0                     0                                480  \n",
       "2                     1                              500.0  \n",
       "8                     1                                200  \n",
       "9                     1                                100  \n",
       "11                    1                              500.0  \n",
       "...                 ...                                ...  \n",
       "43124                 0                               27.0  \n",
       "43321                 1                              100.0  \n",
       "43808                 0                              890.0  \n",
       "44032                 0                               70.0  \n",
       "44073                 2                              990.0  \n",
       "\n",
       "[1204 rows x 12 columns]>"
      ]
     },
     "execution_count": 328,
     "metadata": {},
     "output_type": "execute_result"
    }
   ],
   "source": [
    "clean_data.info"
   ]
  },
  {
   "cell_type": "markdown",
   "metadata": {},
   "source": [
    "# Splitting The Data"
   ]
  },
  {
   "cell_type": "markdown",
   "metadata": {},
   "source": [
    "I will split my data into two parametrs:\n",
    "* **X** - The data that I give to the model\n",
    "* **y** - The data that I want to predict"
   ]
  },
  {
   "cell_type": "code",
   "execution_count": 387,
   "metadata": {},
   "outputs": [],
   "source": [
    "X = clean_data.drop(['preparation type num', 'Preparation name'],axis=1)\n",
    "y = clean_data['preparation type num']"
   ]
  },
  {
   "cell_type": "markdown",
   "metadata": {},
   "source": [
    "After choosing the columns that I want from the choosen data, I will split the data into test and traind variables:/\\"
   ]
  },
  {
   "cell_type": "code",
   "execution_count": 427,
   "metadata": {},
   "outputs": [],
   "source": [
    "\n",
    "X_test, X_train, y_test, y_train= train_test_split(X, y, test_size = 0.2, random_state=30)\n",
    "pesticides = X_test.copy()"
   ]
  },
  {
   "cell_type": "code",
   "execution_count": 428,
   "metadata": {},
   "outputs": [
    {
     "data": {
      "text/html": [
       "<div>\n",
       "<style scoped>\n",
       "    .dataframe tbody tr th:only-of-type {\n",
       "        vertical-align: middle;\n",
       "    }\n",
       "\n",
       "    .dataframe tbody tr th {\n",
       "        vertical-align: top;\n",
       "    }\n",
       "\n",
       "    .dataframe thead th {\n",
       "        text-align: right;\n",
       "    }\n",
       "</style>\n",
       "<table border=\"1\" class=\"dataframe\">\n",
       "  <thead>\n",
       "    <tr style=\"text-align: right;\">\n",
       "      <th></th>\n",
       "      <th>activity type num</th>\n",
       "      <th>field type num</th>\n",
       "      <th>active ingredient num</th>\n",
       "      <th>formulation num</th>\n",
       "      <th>toxicity num</th>\n",
       "      <th>degree of toxicity num</th>\n",
       "      <th>crop group num</th>\n",
       "      <th>lesion group num</th>\n",
       "      <th>active substance concentration num</th>\n",
       "    </tr>\n",
       "    <tr>\n",
       "      <th>license number</th>\n",
       "      <th></th>\n",
       "      <th></th>\n",
       "      <th></th>\n",
       "      <th></th>\n",
       "      <th></th>\n",
       "      <th></th>\n",
       "      <th></th>\n",
       "      <th></th>\n",
       "      <th></th>\n",
       "    </tr>\n",
       "  </thead>\n",
       "  <tbody>\n",
       "    <tr>\n",
       "      <th>4067</th>\n",
       "      <td>6</td>\n",
       "      <td>0</td>\n",
       "      <td>10</td>\n",
       "      <td>3</td>\n",
       "      <td>0</td>\n",
       "      <td>0</td>\n",
       "      <td>2</td>\n",
       "      <td>2</td>\n",
       "      <td>304.0</td>\n",
       "    </tr>\n",
       "    <tr>\n",
       "      <th>7461</th>\n",
       "      <td>10</td>\n",
       "      <td>0</td>\n",
       "      <td>298</td>\n",
       "      <td>14</td>\n",
       "      <td>5</td>\n",
       "      <td>0</td>\n",
       "      <td>0</td>\n",
       "      <td>1</td>\n",
       "      <td>86.1</td>\n",
       "    </tr>\n",
       "    <tr>\n",
       "      <th>1379</th>\n",
       "      <td>11</td>\n",
       "      <td>0</td>\n",
       "      <td>100</td>\n",
       "      <td>2</td>\n",
       "      <td>0</td>\n",
       "      <td>2</td>\n",
       "      <td>3</td>\n",
       "      <td>1</td>\n",
       "      <td>350</td>\n",
       "    </tr>\n",
       "    <tr>\n",
       "      <th>1918</th>\n",
       "      <td>6</td>\n",
       "      <td>0</td>\n",
       "      <td>92</td>\n",
       "      <td>2</td>\n",
       "      <td>3</td>\n",
       "      <td>0</td>\n",
       "      <td>2</td>\n",
       "      <td>2</td>\n",
       "      <td>80</td>\n",
       "    </tr>\n",
       "    <tr>\n",
       "      <th>7284</th>\n",
       "      <td>6</td>\n",
       "      <td>0</td>\n",
       "      <td>254</td>\n",
       "      <td>2</td>\n",
       "      <td>5</td>\n",
       "      <td>0</td>\n",
       "      <td>4</td>\n",
       "      <td>2</td>\n",
       "      <td>13.4</td>\n",
       "    </tr>\n",
       "    <tr>\n",
       "      <th>...</th>\n",
       "      <td>...</td>\n",
       "      <td>...</td>\n",
       "      <td>...</td>\n",
       "      <td>...</td>\n",
       "      <td>...</td>\n",
       "      <td>...</td>\n",
       "      <td>...</td>\n",
       "      <td>...</td>\n",
       "      <td>...</td>\n",
       "    </tr>\n",
       "    <tr>\n",
       "      <th>1761</th>\n",
       "      <td>7</td>\n",
       "      <td>0</td>\n",
       "      <td>90</td>\n",
       "      <td>20</td>\n",
       "      <td>0</td>\n",
       "      <td>0</td>\n",
       "      <td>3</td>\n",
       "      <td>1</td>\n",
       "      <td>2.0</td>\n",
       "    </tr>\n",
       "    <tr>\n",
       "      <th>4099</th>\n",
       "      <td>10</td>\n",
       "      <td>0</td>\n",
       "      <td>298</td>\n",
       "      <td>14</td>\n",
       "      <td>5</td>\n",
       "      <td>0</td>\n",
       "      <td>0</td>\n",
       "      <td>1</td>\n",
       "      <td>86.1</td>\n",
       "    </tr>\n",
       "    <tr>\n",
       "      <th>11002</th>\n",
       "      <td>12</td>\n",
       "      <td>0</td>\n",
       "      <td>143</td>\n",
       "      <td>27</td>\n",
       "      <td>0</td>\n",
       "      <td>0</td>\n",
       "      <td>7</td>\n",
       "      <td>1</td>\n",
       "      <td>0.2</td>\n",
       "    </tr>\n",
       "    <tr>\n",
       "      <th>4051</th>\n",
       "      <td>14</td>\n",
       "      <td>0</td>\n",
       "      <td>172</td>\n",
       "      <td>20</td>\n",
       "      <td>0</td>\n",
       "      <td>1</td>\n",
       "      <td>7</td>\n",
       "      <td>2</td>\n",
       "      <td>990.0</td>\n",
       "    </tr>\n",
       "    <tr>\n",
       "      <th>4062</th>\n",
       "      <td>7</td>\n",
       "      <td>0</td>\n",
       "      <td>121</td>\n",
       "      <td>0</td>\n",
       "      <td>14</td>\n",
       "      <td>2</td>\n",
       "      <td>0</td>\n",
       "      <td>1</td>\n",
       "      <td>200</td>\n",
       "    </tr>\n",
       "  </tbody>\n",
       "</table>\n",
       "<p>963 rows × 9 columns</p>\n",
       "</div>"
      ],
      "text/plain": [
       "                activity type num  field type num  active ingredient num  \\\n",
       "license number                                                             \n",
       "4067                            6               0                     10   \n",
       "7461                           10               0                    298   \n",
       "1379                           11               0                    100   \n",
       "1918                            6               0                     92   \n",
       "7284                            6               0                    254   \n",
       "...                           ...             ...                    ...   \n",
       "1761                            7               0                     90   \n",
       "4099                           10               0                    298   \n",
       "11002                          12               0                    143   \n",
       "4051                           14               0                    172   \n",
       "4062                            7               0                    121   \n",
       "\n",
       "                formulation num  toxicity num  degree of toxicity num  \\\n",
       "license number                                                          \n",
       "4067                          3             0                       0   \n",
       "7461                         14             5                       0   \n",
       "1379                          2             0                       2   \n",
       "1918                          2             3                       0   \n",
       "7284                          2             5                       0   \n",
       "...                         ...           ...                     ...   \n",
       "1761                         20             0                       0   \n",
       "4099                         14             5                       0   \n",
       "11002                        27             0                       0   \n",
       "4051                         20             0                       1   \n",
       "4062                          0            14                       2   \n",
       "\n",
       "                crop group num  lesion group num  \\\n",
       "license number                                     \n",
       "4067                         2                 2   \n",
       "7461                         0                 1   \n",
       "1379                         3                 1   \n",
       "1918                         2                 2   \n",
       "7284                         4                 2   \n",
       "...                        ...               ...   \n",
       "1761                         3                 1   \n",
       "4099                         0                 1   \n",
       "11002                        7                 1   \n",
       "4051                         7                 2   \n",
       "4062                         0                 1   \n",
       "\n",
       "               active substance concentration num  \n",
       "license number                                     \n",
       "4067                                        304.0  \n",
       "7461                                         86.1  \n",
       "1379                                          350  \n",
       "1918                                           80  \n",
       "7284                                         13.4  \n",
       "...                                           ...  \n",
       "1761                                          2.0  \n",
       "4099                                         86.1  \n",
       "11002                                         0.2  \n",
       "4051                                        990.0  \n",
       "4062                                          200  \n",
       "\n",
       "[963 rows x 9 columns]"
      ]
     },
     "execution_count": 428,
     "metadata": {},
     "output_type": "execute_result"
    }
   ],
   "source": [
    "pesticides = pesticides.set_index('license number')\n",
    "pesticides"
   ]
  },
  {
   "cell_type": "code",
   "execution_count": 390,
   "metadata": {},
   "outputs": [
    {
     "name": "stdout",
     "output_type": "stream",
     "text": [
      "pesticides:    (963,)\n",
      "test_set:    (963, 10)\n"
     ]
    }
   ],
   "source": [
    "print('pesticides:   ', y_test.shape)\n",
    "print('test_set:   ', X_test.shape)"
   ]
  },
  {
   "cell_type": "markdown",
   "metadata": {},
   "source": [
    "# Analyze the Data by Comparing the Different columns"
   ]
  },
  {
   "cell_type": "code",
   "execution_count": 429,
   "metadata": {},
   "outputs": [
    {
     "name": "stderr",
     "output_type": "stream",
     "text": [
      "C:\\Users\\moria\\anaconda3\\lib\\site-packages\\seaborn\\_decorators.py:36: FutureWarning:\n",
      "\n",
      "Pass the following variable as a keyword arg: x. From version 0.12, the only valid positional argument will be `data`, and passing other arguments without an explicit keyword will result in an error or misinterpretation.\n",
      "\n"
     ]
    },
    {
     "data": {
      "image/png": "[encoded data removed]",
      "text/plain": [
       "<Figure size 432x288 with 1 Axes>"
      ]
     },
     "metadata": {},
     "output_type": "display_data"
    }
   ],
   "source": [
    "sns.countplot(clean_data['preparation type num'],label=\"Count\")\n",
    "plt.show()"
   ]
  },
  {
   "cell_type": "markdown",
   "metadata": {},
   "source": [
    "# Creating Dummy Model"
   ]
  },
  {
   "cell_type": "code",
   "execution_count": 422,
   "metadata": {},
   "outputs": [
    {
     "data": {
      "text/plain": [
       "0.7095435684647303"
      ]
     },
     "execution_count": 422,
     "metadata": {},
     "output_type": "execute_result"
    }
   ],
   "source": [
    "dummy_clf = DummyClassifier(strategy=\"most_frequent\")\n",
    "dummy_clf.fit(X_train, y_train)\n",
    "dummy_clf.score(X_train, y_train)"
   ]
  },
  {
   "cell_type": "markdown",
   "metadata": {},
   "source": [
    "# Finding Model"
   ]
  },
  {
   "cell_type": "markdown",
   "metadata": {},
   "source": [
    "I will try to find the best model to analize my data:\n",
    "\n",
    "First of all, I will try to use the KNN model, and find the best number of nearest neighbors:"
   ]
  },
  {
   "cell_type": "code",
   "execution_count": 417,
   "metadata": {},
   "outputs": [
    {
     "name": "stdout",
     "output_type": "stream",
     "text": [
      "The best accuracy of the knn model is when k = 11 , and the score is: 0.8328141225337488\n"
     ]
    },
    {
     "data": {
      "image/png": "[encoded data removed]",
      "text/plain": [
       "<Figure size 864x432 with 1 Axes>"
      ]
     },
     "metadata": {
      "needs_background": "light"
     },
     "output_type": "display_data"
    }
   ],
   "source": [
    "k_range = range(1,40)\n",
    "scores = []\n",
    "for k in k_range:\n",
    "    knn_ = KNeighborsClassifier(n_neighbors=k)\n",
    "    knn_.fit(X_train, y_train)\n",
    "    y_pred = knn_.predict(X_test)\n",
    "    scores.append(metrics.accuracy_score(y_test, y_pred))\n",
    "\n",
    "plt.figure(figsize=(12, 6))\n",
    "plt.plot(k_range, scores,color='red', linestyle='dashed', marker='o',\n",
    "         markerfacecolor='blue', markersize=10)\n",
    "plt.xlabel('Value of K for KNN')\n",
    "plt.ylabel('Testing Accuracy')\n",
    "\n",
    "# Finding the maximum k - the number of nearest neighbors:\n",
    "best_k = scores.index(max(scores))\n",
    "print(\"The best accuracy of the knn model is when k =\",best_k, \", and the score is:\",(max(scores))) "
   ]
  },
  {
   "cell_type": "code",
   "execution_count": 409,
   "metadata": {},
   "outputs": [
    {
     "name": "stdout",
     "output_type": "stream",
     "text": [
      "accuracy:    0.9688473520249221\n"
     ]
    }
   ],
   "source": [
    "lr = SVC(kernel='linear')\n",
    "lr.fit(X_train, y_train)\n",
    "y_pred = lr.predict(X_test)\n",
    "accuracy = metrics.accuracy_score(y_test, y_pred)\n",
    "print(\"accuracy:   \", accuracy)"
   ]
  },
  {
   "cell_type": "markdown",
   "metadata": {},
   "source": [
    "According to the models that I checked, the best accuracy scores is when I chosing svm.svc model with kernel='linear'."
   ]
  },
  {
   "cell_type": "code",
   "execution_count": 415,
   "metadata": {},
   "outputs": [
    {
     "name": "stdout",
     "output_type": "stream",
     "text": [
      "The accuracy score is: 0.9688473520249221 , or in another word: 96.88473520249221 %\n"
     ]
    }
   ],
   "source": [
    "print(\"The accuracy score is:\",accuracy, \", or in another word:\",(accuracy*100),\"%\") "
   ]
  },
  {
   "cell_type": "markdown",
   "metadata": {},
   "source": [
    "# Conclusion\n",
    "\n",
    "* The accuracy score of the chosen model is 96.88%.\n",
    "\n",
    "* I have seen that there is a connection between the components of the pesticide material, such as the amount of toxic substance, type of activity, type of soil, etc. and the type of preparation - non-herbicides, herbicides, organic."
   ]
  }
 ],
 "metadata": {
  "interpreter": {
   "hash": "ec7049d032db726a15bb10b46dbe1b088c020316146e5dfa756021ae5836f02c"
  },
  "kernelspec": {
   "display_name": "Python 3.8.8 ('base')",
   "language": "python",
   "name": "python3"
  },
  "language_info": {
   "codemirror_mode": {
    "name": "ipython",
    "version": 3
   },
   "file_extension": ".py",
   "mimetype": "text/x-python",
   "name": "python",
   "nbconvert_exporter": "python",
   "pygments_lexer": "ipython3",
   "version": "3.8.8"
  },
  "orig_nbformat": 4
 },
 "nbformat": 4,
 "nbformat_minor": 2
}
