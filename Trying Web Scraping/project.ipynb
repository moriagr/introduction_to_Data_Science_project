{
 "cells": [
  {
   "cell_type": "code",
   "execution_count": 155,
   "id": "475584c2",
   "metadata": {},
   "outputs": [],
   "source": [
    "import glob\n",
    "from bs4 import BeautifulSoup\n",
    "import csv\n",
    "import pandas as pd\n",
    "from sklearn.model_selection import train_test_split\n",
    "from sklearn.linear_model import LinearRegression as lm\n",
    "from sklearn.linear_model import LogisticRegression as lg\n",
    "import matplotlib.pyplot as plt\n",
    "import seaborn as sns\n",
    "import numpy as np\n",
    "from sklearn import metrics\n",
    "from sklearn.neighbors import KNeighborsClassifier as knn\n",
    "from sklearn import metrics\n",
    "from sklearn.naive_bayes import GaussianNB\n",
    "from sklearn.linear_model import SGDClassifier\n",
    "from sklearn.tree import DecisionTreeClassifier\n",
    "from sklearn.ensemble import RandomForestClassifier\n",
    "from sklearn.svm import SVC\n",
    "\n",
    "all_files = glob.glob(\"./data/*.html\")"
   ]
  },
  {
   "cell_type": "code",
   "execution_count": 20,
   "id": "ab68227e",
   "metadata": {},
   "outputs": [],
   "source": [
    "header = []\n",
    "data = []\n",
    "month = {\n",
    "  \"January\": \"1\",\n",
    "  \"February\": \"2\",\n",
    "  \"March\": \"3\",\n",
    "  \"April\": \"4\",\n",
    "  \"May\":\"5\",\n",
    "  \"June\":\"6\",\n",
    "  \"July\":\"7\",\n",
    "  \"August\":\"8\",\n",
    "  \"September\":\"9\",\n",
    "  \"October\":\"10\",\n",
    "  \"November\":\"11\",\n",
    "  \"December\":\"12\"\n",
    "}\n",
    "for file in all_files:\n",
    "    song_soup = BeautifulSoup(open(file, encoding=\"utf8\"),\"html.parser\")\n",
    "\n",
    "    date=''\n",
    "    for row in song_soup.find_all('tr'):\n",
    "        th = row.find_all('th')\n",
    "        new_row=[]\n",
    "        if th:\n",
    "            if len(header)==0:\n",
    "                for _th in th:\n",
    "                    if len(_th.contents) ==3:\n",
    "                        header.append(_th.contents[0]+\" \"+_th.contents[2])\n",
    "                    else:\n",
    "                        header.append(_th.contents[0])\n",
    "        else:\n",
    "            td = row.find_all('td')\n",
    "            if td:\n",
    "                if len(td)==6:\n",
    "                    count=0\n",
    "                    for _td in td:\n",
    "                        a=_td.find_all('a')\n",
    "                        if a:\n",
    "                            for _a in a:\n",
    "                                if count==0:\n",
    "                                    _a.contents[0] = _a.contents[0].split(\" \")[1]+\"/\"+month[_a.contents[0].split(\" \")[0]]\n",
    "                                    date = _a.contents[0]\n",
    "                                new_row.append(_a.contents[0])\n",
    "                        else:\n",
    "                            if count==0 and len(_td.contents)==0:\n",
    "                                new_row.append(date)\n",
    "                            else:\n",
    "                                if len(_td.contents)>0:\n",
    "                                    if count==4:\n",
    "                                        revenue_num=int(''.join(_td.contents[0].split('$')[1].split(',')))\n",
    "                                        if revenue_num>0:\n",
    "                                            new_row.append(revenue_num)\n",
    "                                    else:\n",
    "                                        new_row.append(_td.contents[0])\n",
    "\n",
    "                                else:\n",
    "                                    if count!=2:\n",
    "                                        new_row.append('')\n",
    "\n",
    "                        count = count+1\n",
    "\n",
    "        if len(new_row)==6:\n",
    "            data.append(new_row)\n",
    "            \n",
    "\n",
    "with open('movies.csv', 'w', encoding='UTF8') as f:\n",
    "    writer = csv.writer(f)\n",
    "\n",
    "    # write the header\n",
    "    writer.writerow(header)\n",
    "\n",
    "    # write the data\n",
    "    for _data in data:\n",
    "        writer.writerow(_data)"
   ]
  },
  {
   "cell_type": "code",
   "execution_count": 139,
   "id": "13577cb4",
   "metadata": {},
   "outputs": [
    {
     "data": {
      "text/html": [
       "<div>\n",
       "<style scoped>\n",
       "    .dataframe tbody tr th:only-of-type {\n",
       "        vertical-align: middle;\n",
       "    }\n",
       "\n",
       "    .dataframe tbody tr th {\n",
       "        vertical-align: top;\n",
       "    }\n",
       "\n",
       "    .dataframe thead th {\n",
       "        text-align: right;\n",
       "    }\n",
       "</style>\n",
       "<table border=\"1\" class=\"dataframe\">\n",
       "  <thead>\n",
       "    <tr style=\"text-align: right;\">\n",
       "      <th></th>\n",
       "      <th>Release Date</th>\n",
       "      <th>Movie</th>\n",
       "      <th>Genre</th>\n",
       "      <th>Release Type</th>\n",
       "      <th>Revenue to Date</th>\n",
       "      <th>Trailer</th>\n",
       "    </tr>\n",
       "  </thead>\n",
       "  <tbody>\n",
       "    <tr>\n",
       "      <th>0</th>\n",
       "      <td>6/1</td>\n",
       "      <td>Houseguest</td>\n",
       "      <td>Comedy</td>\n",
       "      <td>Theatrical</td>\n",
       "      <td>26325256</td>\n",
       "      <td></td>\n",
       "    </tr>\n",
       "    <tr>\n",
       "      <th>1</th>\n",
       "      <td>6/1</td>\n",
       "      <td>Showgirls</td>\n",
       "      <td>Drama</td>\n",
       "      <td>Theatrical</td>\n",
       "      <td>37750754</td>\n",
       "      <td></td>\n",
       "    </tr>\n",
       "    <tr>\n",
       "      <th>2</th>\n",
       "      <td>11/1</td>\n",
       "      <td>Higher Learning</td>\n",
       "      <td>Drama</td>\n",
       "      <td>Theatrical</td>\n",
       "      <td>38023585</td>\n",
       "      <td></td>\n",
       "    </tr>\n",
       "    <tr>\n",
       "      <th>3</th>\n",
       "      <td>13/1</td>\n",
       "      <td>Far from\\r\\n                                  ...</td>\n",
       "      <td>Adventure</td>\n",
       "      <td>Theatrical</td>\n",
       "      <td>11380788</td>\n",
       "      <td></td>\n",
       "    </tr>\n",
       "    <tr>\n",
       "      <th>4</th>\n",
       "      <td>13/1</td>\n",
       "      <td>Tales from the Crypt:\\r\\n                     ...</td>\n",
       "      <td>Horror</td>\n",
       "      <td>Theatrical</td>\n",
       "      <td>21089146</td>\n",
       "      <td></td>\n",
       "    </tr>\n",
       "    <tr>\n",
       "      <th>...</th>\n",
       "      <td>...</td>\n",
       "      <td>...</td>\n",
       "      <td>...</td>\n",
       "      <td>...</td>\n",
       "      <td>...</td>\n",
       "      <td>...</td>\n",
       "    </tr>\n",
       "    <tr>\n",
       "      <th>271</th>\n",
       "      <td>29/12</td>\n",
       "      <td>Dead Man Walking</td>\n",
       "      <td>Drama</td>\n",
       "      <td>Theatrical</td>\n",
       "      <td>83088295</td>\n",
       "      <td></td>\n",
       "    </tr>\n",
       "    <tr>\n",
       "      <th>272</th>\n",
       "      <td>29/12</td>\n",
       "      <td>Mr. Holland’s Opus</td>\n",
       "      <td>Drama</td>\n",
       "      <td>Theatrical</td>\n",
       "      <td>106282604</td>\n",
       "      <td></td>\n",
       "    </tr>\n",
       "    <tr>\n",
       "      <th>273</th>\n",
       "      <td>29/12</td>\n",
       "      <td>Restoration</td>\n",
       "      <td>Drama</td>\n",
       "      <td>Theatrical</td>\n",
       "      <td>4100000</td>\n",
       "      <td></td>\n",
       "    </tr>\n",
       "    <tr>\n",
       "      <th>274</th>\n",
       "      <td>29/12</td>\n",
       "      <td>Richard III</td>\n",
       "      <td>Drama</td>\n",
       "      <td>Theatrical</td>\n",
       "      <td>4199334</td>\n",
       "      <td></td>\n",
       "    </tr>\n",
       "    <tr>\n",
       "      <th>275</th>\n",
       "      <td>29/12</td>\n",
       "      <td>Terra\\r\\n                                     ...</td>\n",
       "      <td>Drama</td>\n",
       "      <td>Theatrical</td>\n",
       "      <td>6869</td>\n",
       "      <td></td>\n",
       "    </tr>\n",
       "  </tbody>\n",
       "</table>\n",
       "<p>276 rows × 6 columns</p>\n",
       "</div>"
      ],
      "text/plain": [
       "    Release Date                                              Movie  \\\n",
       "0            6/1                                         Houseguest   \n",
       "1            6/1                                          Showgirls   \n",
       "2           11/1                                    Higher Learning   \n",
       "3           13/1  Far from\\r\\n                                  ...   \n",
       "4           13/1  Tales from the Crypt:\\r\\n                     ...   \n",
       "..           ...                                                ...   \n",
       "271        29/12                                   Dead Man Walking   \n",
       "272        29/12                                 Mr. Holland’s Opus   \n",
       "273        29/12                                        Restoration   \n",
       "274        29/12                                        Richard III   \n",
       "275        29/12  Terra\\r\\n                                     ...   \n",
       "\n",
       "         Genre Release Type  Revenue to Date Trailer  \n",
       "0       Comedy   Theatrical         26325256          \n",
       "1        Drama   Theatrical         37750754          \n",
       "2        Drama   Theatrical         38023585          \n",
       "3    Adventure   Theatrical         11380788          \n",
       "4       Horror   Theatrical         21089146          \n",
       "..         ...          ...              ...     ...  \n",
       "271      Drama   Theatrical         83088295          \n",
       "272      Drama   Theatrical        106282604          \n",
       "273      Drama   Theatrical          4100000          \n",
       "274      Drama   Theatrical          4199334          \n",
       "275      Drama   Theatrical             6869          \n",
       "\n",
       "[276 rows x 6 columns]"
      ]
     },
     "execution_count": 139,
     "metadata": {},
     "output_type": "execute_result"
    }
   ],
   "source": [
    "df = pd.read_csv('movies.csv', ',')\n",
    "df"
   ]
  },
  {
   "cell_type": "code",
   "execution_count": 140,
   "id": "7c419012",
   "metadata": {},
   "outputs": [],
   "source": [
    "# הדאטא שלנו מסוג חיזוי\n",
    "# אנחנו רוצים לנחש את העמודה Revenue to Date\n",
    "#  לנו אין data leakage\n",
    "# מודל 0 יחזיר את כל הממוצע של עמודת הרווחים ואז לראות מה יותר גדול\n",
    "# ניתן לנחש שסרטי קומדיה הם יותר רווחים ושסרטים שיוצאים בקיץ יותר רווחים - חודשי יולי אוגוסט"
   ]
  },
  {
   "cell_type": "code",
   "execution_count": 141,
   "id": "08bf9f08",
   "metadata": {},
   "outputs": [
    {
     "name": "stderr",
     "output_type": "stream",
     "text": [
      "<ipython-input-141-e006be17cc4c>:17: SettingWithCopyWarning: \n",
      "A value is trying to be set on a copy of a slice from a DataFrame\n",
      "\n",
      "See the caveats in the documentation: https://pandas.pydata.org/pandas-docs/stable/user_guide/indexing.html#returning-a-view-versus-a-copy\n",
      "  df.Genre[count_g] = Geners[genre]\n",
      "<ipython-input-141-e006be17cc4c>:23: SettingWithCopyWarning: \n",
      "A value is trying to be set on a copy of a slice from a DataFrame\n",
      "\n",
      "See the caveats in the documentation: https://pandas.pydata.org/pandas-docs/stable/user_guide/indexing.html#returning-a-view-versus-a-copy\n",
      "  df[\"Release Date\"][count_d] = release_date.split(\"/\")[1]\n"
     ]
    }
   ],
   "source": [
    "df.Genre.unique()\n",
    "\n",
    "Geners = {\n",
    "  \"Romantic Comedy\": \"1\",\n",
    "  \"Comedy\": \"2\",\n",
    "  \"Adventure\": \"3\",\n",
    "  \"Western\": \"4\",\n",
    "  \"Action\":\"5\",\n",
    "  \"Horror\":\"6\",\n",
    "  \"Thriller/Suspense\":\"7\",\n",
    "  \"Drama\":\"8\",\n",
    "  \"Black Comedy\":\"9\",\n",
    "  \"Documentary\":\"10\"\n",
    "}\n",
    "count_g=0\n",
    "for genre in df.Genre:\n",
    "  df.Genre[count_g] = Geners[genre]\n",
    "  count_g+=1\n",
    "\n",
    "# only monthes\n",
    "count_d=0\n",
    "for release_date in df[\"Release Date\"]:\n",
    "  df[\"Release Date\"][count_d] = release_date.split(\"/\")[1]\n",
    "  count_d+=1\n"
   ]
  },
  {
   "cell_type": "code",
   "execution_count": 142,
   "id": "5ebb8f01",
   "metadata": {},
   "outputs": [
    {
     "data": {
      "text/html": [
       "<div>\n",
       "<style scoped>\n",
       "    .dataframe tbody tr th:only-of-type {\n",
       "        vertical-align: middle;\n",
       "    }\n",
       "\n",
       "    .dataframe tbody tr th {\n",
       "        vertical-align: top;\n",
       "    }\n",
       "\n",
       "    .dataframe thead th {\n",
       "        text-align: right;\n",
       "    }\n",
       "</style>\n",
       "<table border=\"1\" class=\"dataframe\">\n",
       "  <thead>\n",
       "    <tr style=\"text-align: right;\">\n",
       "      <th></th>\n",
       "      <th>Release Date</th>\n",
       "      <th>Movie</th>\n",
       "      <th>Genre</th>\n",
       "      <th>Release Type</th>\n",
       "      <th>Revenue to Date</th>\n",
       "      <th>Trailer</th>\n",
       "    </tr>\n",
       "  </thead>\n",
       "  <tbody>\n",
       "    <tr>\n",
       "      <th>0</th>\n",
       "      <td>1</td>\n",
       "      <td>Houseguest</td>\n",
       "      <td>2</td>\n",
       "      <td>Theatrical</td>\n",
       "      <td>26325256</td>\n",
       "      <td></td>\n",
       "    </tr>\n",
       "    <tr>\n",
       "      <th>1</th>\n",
       "      <td>1</td>\n",
       "      <td>Showgirls</td>\n",
       "      <td>8</td>\n",
       "      <td>Theatrical</td>\n",
       "      <td>37750754</td>\n",
       "      <td></td>\n",
       "    </tr>\n",
       "    <tr>\n",
       "      <th>2</th>\n",
       "      <td>1</td>\n",
       "      <td>Higher Learning</td>\n",
       "      <td>8</td>\n",
       "      <td>Theatrical</td>\n",
       "      <td>38023585</td>\n",
       "      <td></td>\n",
       "    </tr>\n",
       "    <tr>\n",
       "      <th>3</th>\n",
       "      <td>1</td>\n",
       "      <td>Far from\\r\\n                                  ...</td>\n",
       "      <td>3</td>\n",
       "      <td>Theatrical</td>\n",
       "      <td>11380788</td>\n",
       "      <td></td>\n",
       "    </tr>\n",
       "    <tr>\n",
       "      <th>4</th>\n",
       "      <td>1</td>\n",
       "      <td>Tales from the Crypt:\\r\\n                     ...</td>\n",
       "      <td>6</td>\n",
       "      <td>Theatrical</td>\n",
       "      <td>21089146</td>\n",
       "      <td></td>\n",
       "    </tr>\n",
       "    <tr>\n",
       "      <th>...</th>\n",
       "      <td>...</td>\n",
       "      <td>...</td>\n",
       "      <td>...</td>\n",
       "      <td>...</td>\n",
       "      <td>...</td>\n",
       "      <td>...</td>\n",
       "    </tr>\n",
       "    <tr>\n",
       "      <th>271</th>\n",
       "      <td>12</td>\n",
       "      <td>Dead Man Walking</td>\n",
       "      <td>8</td>\n",
       "      <td>Theatrical</td>\n",
       "      <td>83088295</td>\n",
       "      <td></td>\n",
       "    </tr>\n",
       "    <tr>\n",
       "      <th>272</th>\n",
       "      <td>12</td>\n",
       "      <td>Mr. Holland’s Opus</td>\n",
       "      <td>8</td>\n",
       "      <td>Theatrical</td>\n",
       "      <td>106282604</td>\n",
       "      <td></td>\n",
       "    </tr>\n",
       "    <tr>\n",
       "      <th>273</th>\n",
       "      <td>12</td>\n",
       "      <td>Restoration</td>\n",
       "      <td>8</td>\n",
       "      <td>Theatrical</td>\n",
       "      <td>4100000</td>\n",
       "      <td></td>\n",
       "    </tr>\n",
       "    <tr>\n",
       "      <th>274</th>\n",
       "      <td>12</td>\n",
       "      <td>Richard III</td>\n",
       "      <td>8</td>\n",
       "      <td>Theatrical</td>\n",
       "      <td>4199334</td>\n",
       "      <td></td>\n",
       "    </tr>\n",
       "    <tr>\n",
       "      <th>275</th>\n",
       "      <td>12</td>\n",
       "      <td>Terra\\r\\n                                     ...</td>\n",
       "      <td>8</td>\n",
       "      <td>Theatrical</td>\n",
       "      <td>6869</td>\n",
       "      <td></td>\n",
       "    </tr>\n",
       "  </tbody>\n",
       "</table>\n",
       "<p>276 rows × 6 columns</p>\n",
       "</div>"
      ],
      "text/plain": [
       "    Release Date                                              Movie Genre  \\\n",
       "0              1                                         Houseguest     2   \n",
       "1              1                                          Showgirls     8   \n",
       "2              1                                    Higher Learning     8   \n",
       "3              1  Far from\\r\\n                                  ...     3   \n",
       "4              1  Tales from the Crypt:\\r\\n                     ...     6   \n",
       "..           ...                                                ...   ...   \n",
       "271           12                                   Dead Man Walking     8   \n",
       "272           12                                 Mr. Holland’s Opus     8   \n",
       "273           12                                        Restoration     8   \n",
       "274           12                                        Richard III     8   \n",
       "275           12  Terra\\r\\n                                     ...     8   \n",
       "\n",
       "    Release Type  Revenue to Date Trailer  \n",
       "0     Theatrical         26325256          \n",
       "1     Theatrical         37750754          \n",
       "2     Theatrical         38023585          \n",
       "3     Theatrical         11380788          \n",
       "4     Theatrical         21089146          \n",
       "..           ...              ...     ...  \n",
       "271   Theatrical         83088295          \n",
       "272   Theatrical        106282604          \n",
       "273   Theatrical          4100000          \n",
       "274   Theatrical          4199334          \n",
       "275   Theatrical             6869          \n",
       "\n",
       "[276 rows x 6 columns]"
      ]
     },
     "execution_count": 142,
     "metadata": {},
     "output_type": "execute_result"
    }
   ],
   "source": [
    "df"
   ]
  },
  {
   "cell_type": "code",
   "execution_count": 143,
   "id": "2b46400a",
   "metadata": {},
   "outputs": [],
   "source": [
    "df = df.drop(['Release Type', 'Trailer'],axis=1)\n",
    "y = df[\"Release Date\"].to_numpy()\n",
    "x = df.drop(['Release Date', 'Movie'],axis=1).to_numpy()\n",
    "# x = df[['Revenue to Date']]\n",
    "\n",
    "# x = df['Release Date'].to_numpy()\n"
   ]
  },
  {
   "cell_type": "code",
   "execution_count": 144,
   "id": "bf47536b",
   "metadata": {},
   "outputs": [],
   "source": [
    "# x_train, x_test, y_train, y_test = train_test_split(x, y, test_size=0.2, random_state=1)\n",
    "x_train, x_test, y_train, y_test = train_test_split(x, y, test_size=0.4, random_state=1)"
   ]
  },
  {
   "cell_type": "code",
   "execution_count": 145,
   "id": "ab892b84",
   "metadata": {},
   "outputs": [
    {
     "name": "stdout",
     "output_type": "stream",
     "text": [
      "0.036036036036036036\n"
     ]
    }
   ],
   "source": [
    "log = lg()\n",
    "log.fit(x_train, y_train)\n",
    "y_pred = log.predict(x_test)\n",
    "print(metrics.accuracy_score(y_test, y_pred))"
   ]
  },
  {
   "cell_type": "code",
   "execution_count": 151,
   "id": "701fb917",
   "metadata": {},
   "outputs": [
    {
     "name": "stdout",
     "output_type": "stream",
     "text": [
      "['5' '2' '9' '4' '12' '3' '10' '9' '1' '5' '1' '9' '7' '8' '10' '6' '6'\n",
      " '7' '3' '5' '8' '12' '4' '6' '1' '2' '12' '12' '4' '4' '12' '12' '8' '9'\n",
      " '1' '9' '3' '4' '9' '9' '5' '6' '6' '3' '12' '9' '7' '6' '10' '11' '6'\n",
      " '2' '10' '11' '9' '7' '3' '7' '6' '2' '3' '8' '10' '6' '12' '12' '12'\n",
      " '12' '12' '2' '10' '5' '10' '12' '3' '12' '3' '10' '3' '9' '12' '2' '1'\n",
      " '9' '9' '6' '4' '12' '2' '2' '9' '10' '4' '5' '8' '3' '11' '5' '10' '3'\n",
      " '7' '12' '4' '3' '8' '4' '10' '11' '12' '4' '12']\n",
      "['9' '9' '9' '9' '9' '9' '9' '9' '9' '9' '9' '9' '8' '9' '9' '9' '9' '9'\n",
      " '9' '9' '9' '9' '9' '9' '9' '9' '9' '9' '9' '8' '9' '9' '9' '9' '9' '9'\n",
      " '8' '9' '9' '9' '8' '9' '8' '9' '9' '9' '9' '9' '9' '9' '8' '9' '9' '9'\n",
      " '9' '9' '9' '8' '9' '9' '9' '9' '9' '9' '9' '9' '9' '9' '9' '9' '9' '9'\n",
      " '9' '9' '9' '9' '9' '9' '9' '9' '9' '9' '9' '9' '9' '8' '9' '9' '9' '9'\n",
      " '9' '9' '9' '9' '9' '9' '9' '9' '9' '9' '9' '9' '9' '9' '9' '9' '9' '9'\n",
      " '9' '8' '9']\n"
     ]
    },
    {
     "data": {
      "text/plain": [
       "Text(0, 0.5, 'Testing Accuracy')"
      ]
     },
     "execution_count": 151,
     "metadata": {},
     "output_type": "execute_result"
    },
    {
     "data": {
      "image/png": "[encoded data removed]",
      "text/plain": [
       "<Figure size 432x288 with 1 Axes>"
      ]
     },
     "metadata": {
      "needs_background": "light"
     },
     "output_type": "display_data"
    }
   ],
   "source": [
    "k_range = range(1,150)\n",
    "print(y_test)\n",
    "print(y_pred)\n",
    "scores = []\n",
    "for k in k_range:\n",
    "    knn_ = knn(n_neighbors=k)\n",
    "    knn_.fit(x_train, y_train)\n",
    "    y_pred = knn_.predict(x_test)\n",
    "    scores.append(metrics.accuracy_score(y_test, y_pred))\n",
    "%matplotlib inline\n",
    "plt.plot(k_range, scores)\n",
    "plt.xlabel('Value of K for KNN')\n",
    "plt.ylabel('Testing Accuracy')"
   ]
  },
  {
   "cell_type": "code",
   "execution_count": 117,
   "id": "a9dcccdc",
   "metadata": {},
   "outputs": [
    {
     "name": "stdout",
     "output_type": "stream",
     "text": [
      "r_sq:    0.0034499180248453998\n",
      "Intercept:  6.398993235037733\n",
      "Coefficients:\n"
     ]
    },
    {
     "data": {
      "text/plain": [
       "[(array(['2', 26325256], dtype=object), 0.08968683310448668),\n",
       " (array(['8', 37750754], dtype=object), 4.8017567497058785e-09)]"
      ]
     },
     "execution_count": 117,
     "metadata": {},
     "output_type": "execute_result"
    }
   ],
   "source": [
    "rm = lm()\n",
    "rm.fit(x_train, y_train)\n",
    "r_sq = rm.score(x_test, y_test)\n",
    "print('r_sq:   ', r_sq)\n",
    "print(\"Intercept: \", rm.intercept_)\n",
    "print(\"Coefficients:\")\n",
    "list(zip(x, rm.coef_))\n"
   ]
  },
  {
   "cell_type": "code",
   "execution_count": 121,
   "id": "6bfe0ba1",
   "metadata": {},
   "outputs": [
    {
     "name": "stdout",
     "output_type": "stream",
     "text": [
      "0.08433734939759036\n"
     ]
    }
   ],
   "source": [
    "knn_ = knn(n_neighbors=5)\n",
    "knn_.fit(x_train,y_train)\n",
    "y_pred = knn_.predict(x_test)\n",
    "print(metrics.accuracy_score(y_test, y_pred))"
   ]
  },
  {
   "cell_type": "code",
   "execution_count": 70,
   "id": "00d79a2e",
   "metadata": {},
   "outputs": [
    {
     "name": "stdout",
     "output_type": "stream",
     "text": [
      "[141247413  18517322   7008542 246100000 212400000   1111790  35627222\n",
      "  50008143   5691405  27936778  11079373   4686937   3270822  20412216\n",
      "   3939728   5762795  11268750      8423      1424  77224232   7737885\n",
      "  11784569    113354  36216173   2459766  36466570    397566  37750754\n",
      "     89720 138486431  12073560  19637147    847704  10660264  23837227\n",
      "   2739002  30077111  24120194  22032635   4391379     52609  10365691\n",
      "   2108367   7113576    240280   6101815  87100000 175516617    178104\n",
      "   6014340    339889     81666    669276  36853222    718490 336529144\n",
      "    134149   6420615  19006201  34668249    686152  11380788    560491\n",
      "     82700   2513250   2517463   1900504  98393930    103351 187433328\n",
      "   4199334  31390587   2477155    523707 134993774   5269757  10904930\n",
      "    529135  27067247   2702000  13747279  13916665    911310]\n",
      "306.5883826050509\n"
     ]
    }
   ],
   "source": [
    "predictions=rm.predict(x_test)\n",
    "print(y_test)\n",
    "\n",
    "accuracy = metrics.mean_absolute_percentage_error(y_test, predictions)\n",
    "print(accuracy)"
   ]
  },
  {
   "cell_type": "code",
   "execution_count": 71,
   "id": "fef94593",
   "metadata": {},
   "outputs": [
    {
     "data": {
      "image/png": "[encoded data removed]",
      "text/plain": [
       "<Figure size 432x288 with 1 Axes>"
      ]
     },
     "metadata": {
      "needs_background": "light"
     },
     "output_type": "display_data"
    }
   ],
   "source": [
    "plt.scatter(y_test,predictions)\n",
    "plt.xlabel('True values')\n",
    "plt.ylabel('Predictions')\n",
    "plt.show()\n"
   ]
  },
  {
   "cell_type": "code",
   "execution_count": 15,
   "id": "2df533b7",
   "metadata": {},
   "outputs": [
    {
     "data": {
      "text/plain": [
       "<seaborn.axisgrid.PairGrid at 0x27c2493a880>"
      ]
     },
     "execution_count": 15,
     "metadata": {},
     "output_type": "execute_result"
    },
    {
     "data": {
      "image/png": "[encoded data removed]",
      "text/plain": [
       "<Figure size 180x180 with 2 Axes>"
      ]
     },
     "metadata": {
      "needs_background": "light"
     },
     "output_type": "display_data"
    }
   ],
   "source": [
    "sns.pairplot(df)"
   ]
  },
  {
   "cell_type": "code",
   "execution_count": 32,
   "id": "f7234593",
   "metadata": {},
   "outputs": [
    {
     "name": "stdout",
     "output_type": "stream",
     "text": [
      "(193, 2) (83, 2) (193,) (83,)\n",
      "[ 62  84  35   9  52 103 154  35  39  59 161 114 120  47 154 126  48 120\n",
      "  41  59  68  95   9  48  94 141 159  52   9  87 159  52  67 114  39  35\n",
      "  12   9 114  35  59  48  48  41  52  35 120 126 150  70 130  84 154  91\n",
      "   7  73  64  73  48  84 192  68  75  48 159 132  52  27  27   5 154  59\n",
      "   1  95  41  95  64 154  64  35 132  39 161]\n",
      "(83, 2) (83,)\n",
      "(83, 2) (83,)\n",
      "Accuracy: 0.000\n"
     ]
    }
   ],
   "source": [
    "print(x_train.shape, x_test.shape, y_train.shape, y_test.shape)\n",
    "# define model\n",
    "nknn = knn()\n",
    "\n",
    "# fit model\n",
    "nknn.fit(x_train, y_train)\n",
    "# make predictions\n",
    "# yhat = model.predict(x_test)\n",
    "# # evaluate predictions\n",
    "# accuracy = accuracy_score(y_test, yhat)\n",
    "# print(\"accuracy:   \", accuracy)\n",
    "\n",
    "# get the most similar neighbor for each point in the test set\n",
    "neighbor_ix = nknn.kneighbors(x_test, 1, return_distance=False)\n",
    "ix = neighbor_ix[:,0]\n",
    "print(ix)\n",
    "# create a training dataset from selected instances\n",
    "X_train_neigh, y_train_neigh = x_train[ix], y_train[ix]\n",
    "print(X_train_neigh.shape, y_train_neigh.shape)\n",
    "# create a training dataset from selected instances\n",
    "X_train_neigh, y_train_neigh = x_train[ix], y_train[ix]\n",
    "print(X_train_neigh.shape, y_train_neigh.shape)\n",
    "# define model\n",
    "model = knn()\n",
    "# fit model\n",
    "model.fit(X_train_neigh, y_train_neigh)\n",
    "# make predictions\n",
    "yhat = model.predict(x_test)\n",
    "# evaluate predictions\n",
    "accuracy = accuracy_score(y_test, yhat)\n",
    "print('Accuracy: %.3f' % (accuracy * 100))"
   ]
  },
  {
   "cell_type": "code",
   "execution_count": null,
   "id": "d24468b8",
   "metadata": {},
   "outputs": [],
   "source": []
  },
  {
   "cell_type": "code",
   "execution_count": 163,
   "metadata": {},
   "outputs": [
    {
     "name": "stdout",
     "output_type": "stream",
     "text": [
      "accuracy:    0.11711711711711711\n"
     ]
    }
   ],
   "source": [
    "lr = SVC()\n",
    "lr.fit(x_train, y_train)\n",
    "y_pred = lr.predict(x_test)\n",
    "accuracy = metrics.accuracy_score(y_test, y_pred)\n",
    "print(\"accuracy:   \", accuracy)"
   ]
  },
  {
   "cell_type": "code",
   "execution_count": null,
   "id": "f36b57c6",
   "metadata": {},
   "outputs": [],
   "source": []
  }
 ],
 "metadata": {
  "kernelspec": {
   "display_name": "Python 3",
   "language": "python",
   "name": "python3"
  },
  "language_info": {
   "codemirror_mode": {
    "name": "ipython",
    "version": 3
   },
   "file_extension": ".py",
   "mimetype": "text/x-python",
   "name": "python",
   "nbconvert_exporter": "python",
   "pygments_lexer": "ipython3",
   "version": "3.8.8"
  }
 },
 "nbformat": 4,
 "nbformat_minor": 5
}
