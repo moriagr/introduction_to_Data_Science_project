{
 "cells": [
  {
   "cell_type": "code",
   "execution_count": 12,
   "id": "9c4b3c61",
   "metadata": {},
   "outputs": [
    {
     "name": "stdout",
     "output_type": "stream",
     "text": [
      "enter a numer in 10 base:   h\n"
     ]
    }
   ],
   "source": [
    "number = input(\"enter a numer in 10 base:   \")"
   ]
  },
  {
   "cell_type": "code",
   "execution_count": 17,
   "id": "74e98a4f",
   "metadata": {},
   "outputs": [
    {
     "name": "stdout",
     "output_type": "stream",
     "text": [
      "number:  9\n",
      "base bin (base 2):    0b1001\n",
      "base oct (base 8):    0o11\n",
      "base hex (base 16):    0x9\n",
      "base dec (base 10):    9\n"
     ]
    }
   ],
   "source": [
    "print(\"number: \", number)\n",
    "while(not number.isdigit()):\n",
    "    number = input(\"enter a numer in 10 base:   \")\n",
    "\n",
    "print(\"base bin (base 2):   \",bin(int(number)))\n",
    "print(\"base oct (base 8):   \" , oct(int(number)))\n",
    "print(\"base hex (base 16):   \" , hex(int(number)))\n",
    "print(\"base dec (base 10):   \" , int(bin(int(number)), 2))"
   ]
  },
  {
   "cell_type": "code",
   "execution_count": null,
   "id": "9c1f9c9a",
   "metadata": {},
   "outputs": [],
   "source": []
  }
 ],
 "metadata": {
  "kernelspec": {
   "display_name": "Python 3",
   "language": "python",
   "name": "python3"
  },
  "language_info": {
   "codemirror_mode": {
    "name": "ipython",
    "version": 3
   },
   "file_extension": ".py",
   "mimetype": "text/x-python",
   "name": "python",
   "nbconvert_exporter": "python",
   "pygments_lexer": "ipython3",
   "version": "3.8.8"
  }
 },
 "nbformat": 4,
 "nbformat_minor": 5
}
